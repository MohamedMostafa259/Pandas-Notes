{
 "cells": [
  {
   "cell_type": "code",
   "execution_count": 1,
   "metadata": {},
   "outputs": [],
   "source": [
    "import pandas as pd\n",
    "import matplotlib.pyplot as plt\n",
    "import seaborn as sns"
   ]
  },
  {
   "cell_type": "code",
   "execution_count": 2,
   "metadata": {},
   "outputs": [
    {
     "data": {
      "text/html": [
       "<div>\n",
       "<style scoped>\n",
       "    .dataframe tbody tr th:only-of-type {\n",
       "        vertical-align: middle;\n",
       "    }\n",
       "\n",
       "    .dataframe tbody tr th {\n",
       "        vertical-align: top;\n",
       "    }\n",
       "\n",
       "    .dataframe thead th {\n",
       "        text-align: right;\n",
       "    }\n",
       "</style>\n",
       "<table border=\"1\" class=\"dataframe\">\n",
       "  <thead>\n",
       "    <tr style=\"text-align: right;\">\n",
       "      <th></th>\n",
       "      <th>Airline</th>\n",
       "      <th>Date_of_Journey</th>\n",
       "      <th>Source</th>\n",
       "      <th>Destination</th>\n",
       "      <th>Route</th>\n",
       "      <th>Dep_Time</th>\n",
       "      <th>Arrival_Time</th>\n",
       "      <th>Duration</th>\n",
       "      <th>Total_Stops</th>\n",
       "      <th>Additional_Info</th>\n",
       "      <th>Price</th>\n",
       "    </tr>\n",
       "  </thead>\n",
       "  <tbody>\n",
       "    <tr>\n",
       "      <th>0</th>\n",
       "      <td>Jet Airways</td>\n",
       "      <td>9/06/2019</td>\n",
       "      <td>Delhi</td>\n",
       "      <td>Cochin</td>\n",
       "      <td>DEL → LKO → BOM → COK</td>\n",
       "      <td>09:25</td>\n",
       "      <td>04:25 10 Jun</td>\n",
       "      <td>19h</td>\n",
       "      <td>2 stops</td>\n",
       "      <td>No info</td>\n",
       "      <td>13882.0</td>\n",
       "    </tr>\n",
       "    <tr>\n",
       "      <th>1</th>\n",
       "      <td>IndiGo</td>\n",
       "      <td>12/05/2019</td>\n",
       "      <td>Kolkata</td>\n",
       "      <td>Banglore</td>\n",
       "      <td>CCU → NAG → BLR</td>\n",
       "      <td>18:05</td>\n",
       "      <td>23:30</td>\n",
       "      <td>5h 25m</td>\n",
       "      <td>1 stop</td>\n",
       "      <td>No info</td>\n",
       "      <td>6218.0</td>\n",
       "    </tr>\n",
       "    <tr>\n",
       "      <th>2</th>\n",
       "      <td>IndiGo</td>\n",
       "      <td>01/03/2019</td>\n",
       "      <td>Banglore</td>\n",
       "      <td>New Delhi</td>\n",
       "      <td>BLR → NAG → DEL</td>\n",
       "      <td>16:50</td>\n",
       "      <td>21:35</td>\n",
       "      <td>4h 45m</td>\n",
       "      <td>1 stop</td>\n",
       "      <td>No info</td>\n",
       "      <td>13302.0</td>\n",
       "    </tr>\n",
       "    <tr>\n",
       "      <th>3</th>\n",
       "      <td>SpiceJet</td>\n",
       "      <td>24/06/2019</td>\n",
       "      <td>Kolkata</td>\n",
       "      <td>Banglore</td>\n",
       "      <td>CCU → BLR</td>\n",
       "      <td>09:00</td>\n",
       "      <td>11:25</td>\n",
       "      <td>2h 25m</td>\n",
       "      <td>non-stop</td>\n",
       "      <td>No info</td>\n",
       "      <td>3873.0</td>\n",
       "    </tr>\n",
       "    <tr>\n",
       "      <th>4</th>\n",
       "      <td>Jet Airways</td>\n",
       "      <td>12/03/2019</td>\n",
       "      <td>Banglore</td>\n",
       "      <td>New Delhi</td>\n",
       "      <td>BLR → BOM → DEL</td>\n",
       "      <td>18:55</td>\n",
       "      <td>10:25 13 Mar</td>\n",
       "      <td>15h 30m</td>\n",
       "      <td>1 stop</td>\n",
       "      <td>In-flight meal not included</td>\n",
       "      <td>11087.0</td>\n",
       "    </tr>\n",
       "    <tr>\n",
       "      <th>...</th>\n",
       "      <td>...</td>\n",
       "      <td>...</td>\n",
       "      <td>...</td>\n",
       "      <td>...</td>\n",
       "      <td>...</td>\n",
       "      <td>...</td>\n",
       "      <td>...</td>\n",
       "      <td>...</td>\n",
       "      <td>...</td>\n",
       "      <td>...</td>\n",
       "      <td>...</td>\n",
       "    </tr>\n",
       "    <tr>\n",
       "      <th>10655</th>\n",
       "      <td>Air Asia</td>\n",
       "      <td>9/04/2019</td>\n",
       "      <td>Kolkata</td>\n",
       "      <td>Banglore</td>\n",
       "      <td>CCU → BLR</td>\n",
       "      <td>19:55</td>\n",
       "      <td>22:25</td>\n",
       "      <td>2h 30m</td>\n",
       "      <td>non-stop</td>\n",
       "      <td>No info</td>\n",
       "      <td>4107.0</td>\n",
       "    </tr>\n",
       "    <tr>\n",
       "      <th>10656</th>\n",
       "      <td>Air India</td>\n",
       "      <td>27/04/2019</td>\n",
       "      <td>Kolkata</td>\n",
       "      <td>Banglore</td>\n",
       "      <td>CCU → BLR</td>\n",
       "      <td>20:45</td>\n",
       "      <td>23:20</td>\n",
       "      <td>2h 35m</td>\n",
       "      <td>non-stop</td>\n",
       "      <td>No info</td>\n",
       "      <td>4145.0</td>\n",
       "    </tr>\n",
       "    <tr>\n",
       "      <th>10657</th>\n",
       "      <td>Jet Airways</td>\n",
       "      <td>27/04/2019</td>\n",
       "      <td>Banglore</td>\n",
       "      <td>Delhi</td>\n",
       "      <td>BLR → DEL</td>\n",
       "      <td>NaN</td>\n",
       "      <td>11:20</td>\n",
       "      <td>3h</td>\n",
       "      <td>non-stop</td>\n",
       "      <td>NaN</td>\n",
       "      <td>7229.0</td>\n",
       "    </tr>\n",
       "    <tr>\n",
       "      <th>10658</th>\n",
       "      <td>Vistara</td>\n",
       "      <td>01/03/2019</td>\n",
       "      <td>Banglore</td>\n",
       "      <td>New Delhi</td>\n",
       "      <td>BLR → DEL</td>\n",
       "      <td>11:30</td>\n",
       "      <td>14:10</td>\n",
       "      <td>2h 40m</td>\n",
       "      <td>non-stop</td>\n",
       "      <td>No info</td>\n",
       "      <td>12648.0</td>\n",
       "    </tr>\n",
       "    <tr>\n",
       "      <th>10659</th>\n",
       "      <td>Air India</td>\n",
       "      <td>9/05/2019</td>\n",
       "      <td>Delhi</td>\n",
       "      <td>Cochin</td>\n",
       "      <td>DEL → GOI → BOM → COK</td>\n",
       "      <td>10:55</td>\n",
       "      <td>19:15</td>\n",
       "      <td>8h 20m</td>\n",
       "      <td>2 stops</td>\n",
       "      <td>No info</td>\n",
       "      <td>11753.0</td>\n",
       "    </tr>\n",
       "  </tbody>\n",
       "</table>\n",
       "<p>10660 rows × 11 columns</p>\n",
       "</div>"
      ],
      "text/plain": [
       "           Airline Date_of_Journey    Source Destination  \\\n",
       "0      Jet Airways       9/06/2019     Delhi      Cochin   \n",
       "1           IndiGo      12/05/2019   Kolkata    Banglore   \n",
       "2           IndiGo      01/03/2019  Banglore   New Delhi   \n",
       "3         SpiceJet      24/06/2019   Kolkata    Banglore   \n",
       "4      Jet Airways      12/03/2019  Banglore   New Delhi   \n",
       "...            ...             ...       ...         ...   \n",
       "10655     Air Asia       9/04/2019   Kolkata    Banglore   \n",
       "10656    Air India      27/04/2019   Kolkata    Banglore   \n",
       "10657  Jet Airways      27/04/2019  Banglore       Delhi   \n",
       "10658      Vistara      01/03/2019  Banglore   New Delhi   \n",
       "10659    Air India       9/05/2019     Delhi      Cochin   \n",
       "\n",
       "                       Route Dep_Time  Arrival_Time Duration Total_Stops  \\\n",
       "0      DEL → LKO → BOM → COK    09:25  04:25 10 Jun      19h     2 stops   \n",
       "1            CCU → NAG → BLR    18:05         23:30   5h 25m      1 stop   \n",
       "2            BLR → NAG → DEL    16:50         21:35   4h 45m      1 stop   \n",
       "3                  CCU → BLR    09:00         11:25   2h 25m    non-stop   \n",
       "4            BLR → BOM → DEL    18:55  10:25 13 Mar  15h 30m      1 stop   \n",
       "...                      ...      ...           ...      ...         ...   \n",
       "10655              CCU → BLR    19:55         22:25   2h 30m    non-stop   \n",
       "10656              CCU → BLR    20:45         23:20   2h 35m    non-stop   \n",
       "10657              BLR → DEL      NaN         11:20       3h    non-stop   \n",
       "10658              BLR → DEL    11:30         14:10   2h 40m    non-stop   \n",
       "10659  DEL → GOI → BOM → COK    10:55         19:15   8h 20m     2 stops   \n",
       "\n",
       "                   Additional_Info    Price  \n",
       "0                          No info  13882.0  \n",
       "1                          No info   6218.0  \n",
       "2                          No info  13302.0  \n",
       "3                          No info   3873.0  \n",
       "4      In-flight meal not included  11087.0  \n",
       "...                            ...      ...  \n",
       "10655                      No info   4107.0  \n",
       "10656                      No info   4145.0  \n",
       "10657                          NaN   7229.0  \n",
       "10658                      No info  12648.0  \n",
       "10659                      No info  11753.0  \n",
       "\n",
       "[10660 rows x 11 columns]"
      ]
     },
     "execution_count": 2,
     "metadata": {},
     "output_type": "execute_result"
    }
   ],
   "source": [
    "planes = pd.read_csv(\"https://raw.githubusercontent.com/MohamedMostafa259/Pandas-Notes/refs/heads/main/Data/planes.csv\")\n",
    "planes"
   ]
  },
  {
   "cell_type": "markdown",
   "metadata": {},
   "source": [
    "<!-- # `Series.dtype` & `df.dtypes` -->\n",
    "## Storing pandas Series with a `dtype` of `categorical`"
   ]
  },
  {
   "cell_type": "code",
   "execution_count": 3,
   "metadata": {},
   "outputs": [
    {
     "data": {
      "text/html": [
       "<div>\n",
       "<style scoped>\n",
       "    .dataframe tbody tr th:only-of-type {\n",
       "        vertical-align: middle;\n",
       "    }\n",
       "\n",
       "    .dataframe tbody tr th {\n",
       "        vertical-align: top;\n",
       "    }\n",
       "\n",
       "    .dataframe thead th {\n",
       "        text-align: right;\n",
       "    }\n",
       "</style>\n",
       "<table border=\"1\" class=\"dataframe\">\n",
       "  <thead>\n",
       "    <tr style=\"text-align: right;\">\n",
       "      <th></th>\n",
       "      <th>Age</th>\n",
       "      <th>Workclass</th>\n",
       "      <th>fnlgwt</th>\n",
       "      <th>Education</th>\n",
       "      <th>Education Num</th>\n",
       "      <th>Marital Status</th>\n",
       "      <th>Occupation</th>\n",
       "      <th>Relationship</th>\n",
       "      <th>Race</th>\n",
       "      <th>Sex</th>\n",
       "      <th>Capital Gain</th>\n",
       "      <th>Capital Loss</th>\n",
       "      <th>Hours/Week</th>\n",
       "      <th>Country</th>\n",
       "      <th>Above/Below 50k</th>\n",
       "    </tr>\n",
       "  </thead>\n",
       "  <tbody>\n",
       "    <tr>\n",
       "      <th>0</th>\n",
       "      <td>39</td>\n",
       "      <td>State-gov</td>\n",
       "      <td>77516</td>\n",
       "      <td>Bachelors</td>\n",
       "      <td>13</td>\n",
       "      <td>Never-married</td>\n",
       "      <td>Adm-clerical</td>\n",
       "      <td>Not-in-family</td>\n",
       "      <td>White</td>\n",
       "      <td>Male</td>\n",
       "      <td>2174</td>\n",
       "      <td>0</td>\n",
       "      <td>40</td>\n",
       "      <td>United-States</td>\n",
       "      <td>&lt;=50K</td>\n",
       "    </tr>\n",
       "    <tr>\n",
       "      <th>1</th>\n",
       "      <td>50</td>\n",
       "      <td>Self-emp-not-inc</td>\n",
       "      <td>83311</td>\n",
       "      <td>Bachelors</td>\n",
       "      <td>13</td>\n",
       "      <td>Married-civ-spouse</td>\n",
       "      <td>Exec-managerial</td>\n",
       "      <td>Husband</td>\n",
       "      <td>White</td>\n",
       "      <td>Male</td>\n",
       "      <td>0</td>\n",
       "      <td>0</td>\n",
       "      <td>13</td>\n",
       "      <td>United-States</td>\n",
       "      <td>&lt;=50K</td>\n",
       "    </tr>\n",
       "    <tr>\n",
       "      <th>2</th>\n",
       "      <td>38</td>\n",
       "      <td>Private</td>\n",
       "      <td>215646</td>\n",
       "      <td>HS-grad</td>\n",
       "      <td>9</td>\n",
       "      <td>Divorced</td>\n",
       "      <td>Handlers-cleaners</td>\n",
       "      <td>Not-in-family</td>\n",
       "      <td>White</td>\n",
       "      <td>Male</td>\n",
       "      <td>0</td>\n",
       "      <td>0</td>\n",
       "      <td>40</td>\n",
       "      <td>United-States</td>\n",
       "      <td>&lt;=50K</td>\n",
       "    </tr>\n",
       "    <tr>\n",
       "      <th>3</th>\n",
       "      <td>53</td>\n",
       "      <td>Private</td>\n",
       "      <td>234721</td>\n",
       "      <td>11th</td>\n",
       "      <td>7</td>\n",
       "      <td>Married-civ-spouse</td>\n",
       "      <td>Handlers-cleaners</td>\n",
       "      <td>Husband</td>\n",
       "      <td>Black</td>\n",
       "      <td>Male</td>\n",
       "      <td>0</td>\n",
       "      <td>0</td>\n",
       "      <td>40</td>\n",
       "      <td>United-States</td>\n",
       "      <td>&lt;=50K</td>\n",
       "    </tr>\n",
       "    <tr>\n",
       "      <th>4</th>\n",
       "      <td>28</td>\n",
       "      <td>Private</td>\n",
       "      <td>338409</td>\n",
       "      <td>Bachelors</td>\n",
       "      <td>13</td>\n",
       "      <td>Married-civ-spouse</td>\n",
       "      <td>Prof-specialty</td>\n",
       "      <td>Wife</td>\n",
       "      <td>Black</td>\n",
       "      <td>Female</td>\n",
       "      <td>0</td>\n",
       "      <td>0</td>\n",
       "      <td>40</td>\n",
       "      <td>Cuba</td>\n",
       "      <td>&lt;=50K</td>\n",
       "    </tr>\n",
       "  </tbody>\n",
       "</table>\n",
       "</div>"
      ],
      "text/plain": [
       "   Age          Workclass  fnlgwt   Education  Education Num  \\\n",
       "0   39          State-gov   77516   Bachelors             13   \n",
       "1   50   Self-emp-not-inc   83311   Bachelors             13   \n",
       "2   38            Private  215646     HS-grad              9   \n",
       "3   53            Private  234721        11th              7   \n",
       "4   28            Private  338409   Bachelors             13   \n",
       "\n",
       "        Marital Status          Occupation    Relationship    Race      Sex  \\\n",
       "0        Never-married        Adm-clerical   Not-in-family   White     Male   \n",
       "1   Married-civ-spouse     Exec-managerial         Husband   White     Male   \n",
       "2             Divorced   Handlers-cleaners   Not-in-family   White     Male   \n",
       "3   Married-civ-spouse   Handlers-cleaners         Husband   Black     Male   \n",
       "4   Married-civ-spouse      Prof-specialty            Wife   Black   Female   \n",
       "\n",
       "   Capital Gain  Capital Loss  Hours/Week         Country Above/Below 50k  \n",
       "0          2174             0          40   United-States           <=50K  \n",
       "1             0             0          13   United-States           <=50K  \n",
       "2             0             0          40   United-States           <=50K  \n",
       "3             0             0          40   United-States           <=50K  \n",
       "4             0             0          40            Cuba           <=50K  "
      ]
     },
     "execution_count": 3,
     "metadata": {},
     "output_type": "execute_result"
    }
   ],
   "source": [
    "adult = pd.read_csv(\"https://raw.githubusercontent.com/MohamedMostafa259/Pandas-Notes/refs/heads/main/Data/adult.csv\")\n",
    "adult.head()"
   ]
  },
  {
   "cell_type": "code",
   "execution_count": 30,
   "metadata": {},
   "outputs": [
    {
     "name": "stdout",
     "output_type": "stream",
     "text": [
      "Age                   int64\n",
      "Workclass            object\n",
      "fnlgwt                int64\n",
      "Education            object\n",
      "Education Num         int64\n",
      "Marital Status     category\n",
      "Occupation           object\n",
      "Relationship         object\n",
      "Race                 object\n",
      "Sex                  object\n",
      "Capital Gain          int64\n",
      "Capital Loss          int64\n",
      "Hours/Week            int64\n",
      "Country              object\n",
      "Above/Below 50k      object\n",
      "dtype: object \n",
      "\n",
      "category \n",
      "\n",
      "category\n"
     ]
    },
    {
     "data": {
      "text/plain": [
       "CategoricalDtype(categories=[' Divorced', ' Married-AF-spouse', ' Married-civ-spouse',\n",
       "                  ' Married-spouse-absent', ' Never-married', ' Separated',\n",
       "                  ' Widowed'],\n",
       ", ordered=False, categories_dtype=object)"
      ]
     },
     "execution_count": 30,
     "metadata": {},
     "output_type": "execute_result"
    }
   ],
   "source": [
    "print(adult.dtypes, '\\n')\n",
    "# By default, columns containing strings are not stored using pandas' category dtype, \n",
    "# as not every column containing strings needs to be categorical.\n",
    "print(adult[\"Marital Status\"].dtype, '\\n') # adult[\"Marital Status\"].dtype = adult[\"Marital Status\"].dtypes\n",
    "\n",
    "# We can convert this to the categorical dtype using the astype method and specifying category\n",
    "adult[\"Marital Status\"] = adult[\"Marital Status\"].astype(\"category\")\n",
    "print(adult[\"Marital Status\"].dtype)\n",
    "adult[\"Marital Status\"].dtype\n",
    "# The variable is now saved as categorical and there is a list of the categories found in the Series. \n",
    "# ordered equals false => indicates there is currently no order for these categories."
   ]
  },
  {
   "cell_type": "code",
   "execution_count": 31,
   "metadata": {},
   "outputs": [
    {
     "name": "stdout",
     "output_type": "stream",
     "text": [
      "0    A\n",
      "1    A\n",
      "2    C\n",
      "3    B\n",
      "4    C\n",
      "5    A\n",
      "dtype: category\n",
      "Categories (3, object): ['A', 'B', 'C'] \n",
      "\n"
     ]
    },
    {
     "data": {
      "text/plain": [
       "['A', 'A', 'C', 'B', 'C', 'A']\n",
       "Categories (3, object): ['B' < 'A' < 'C']"
      ]
     },
     "execution_count": 31,
     "metadata": {},
     "output_type": "execute_result"
    }
   ],
   "source": [
    "# There are two ways to create a categorical pandas Series when your data is not already in a DataFrame format\n",
    "data = ['A', 'A', 'C', 'B', 'C', 'A']\n",
    "# the 1st way\n",
    "series1 = pd.Series(data, dtype=\"category\")\n",
    "print(series1, '\\n')\n",
    "\n",
    "# the 2nd way: it allows us to tell pandas that the categories have a logical order\n",
    "series2 = pd.Categorical(data, categories=['B', 'A', 'C'], ordered=True) # `categories` arg takes the ascending order of your categories\n",
    "series2"
   ]
  },
  {
   "cell_type": "markdown",
   "metadata": {},
   "source": [
    "### Why is storing pandas Series with a `dtype` of `categorical` useful?\n",
    "**It's a huge memory saver**\n",
    "\n",
    "→ If you know the data types of columns before reading in a dataset, it is good practice to specify at least some of the column dtypes. This can be done by creating a dictionary with column names as keys and data types as values.\n",
    "-   `pd.read_csv(\"file.csv\", parse_dates=[\"DateTimeVariable1\"], dtype={\"VaribleName1\": \"Type1\"})`\n",
    "\n",
    "<br>\n",
    "\n",
    "##### Why is there such a significant difference in memory usage?\n",
    "The huge difference in memory usage between an object type and a category type for the \"Marital Status\" column in the `adult` DataFrame is due to how these data types are stored internally in pandas.\n",
    "\n",
    "1. **Object Type**: When a column is of type `object`, each value is stored as a Python string. This means that each unique string is stored separately in memory, along with its metadata. Strings in Python are generally more memory-intensive because they include overhead for the string object itself, along with the actual string data.\n",
    "\n",
    "2. **Category Type**: When a column is of type `category`, pandas stores the unique values of the column (the categories) only once. It then uses integer codes to represent these categories in the actual data array. This drastically reduces the memory footprint because:\n",
    "\t- The unique strings (categories) are stored only once.\n",
    "\t- The actual data array consists of integer codes, which are much more memory-efficient.\n",
    "\n",
    "<br>\n",
    "\n",
    "**N.B.** The number of bytes needed for a categorical column is proportional to the number of unique categories"
   ]
  },
  {
   "cell_type": "code",
   "execution_count": 6,
   "metadata": {},
   "outputs": [
    {
     "name": "stdout",
     "output_type": "stream",
     "text": [
      "260488 \n",
      "\n",
      "32617 \n",
      "\n"
     ]
    }
   ],
   "source": [
    "print(adult[\"Marital Status\"].astype(\"object\").nbytes, '\\n') \n",
    "print(adult[\"Marital Status\"].astype(\"category\").nbytes, '\\n')  \n",
    "# In this example, using a categorical dtype reduced the memory footprint by a factor of eight."
   ]
  },
  {
   "cell_type": "code",
   "execution_count": 7,
   "metadata": {},
   "outputs": [
    {
     "name": "stdout",
     "output_type": "stream",
     "text": [
      "260620 \n",
      "\n",
      "33049 \n",
      "\n"
     ]
    }
   ],
   "source": [
    "# return the memory usage in bytes\n",
    "print(adult[\"Marital Status\"].astype(\"object\").memory_usage(), '\\n') \n",
    "print(adult[\"Marital Status\"].astype(\"category\").memory_usage(), '\\n')  "
   ]
  },
  {
   "cell_type": "code",
   "execution_count": 8,
   "metadata": {},
   "outputs": [
    {
     "name": "stdout",
     "output_type": "stream",
     "text": [
      "2097518 \n",
      "\n",
      "33436 \n",
      "\n"
     ]
    }
   ],
   "source": [
    "# The memory footprint of `object` values is ignored by default.\n",
    "# When deep=True is specified, the method performs a deeper introspection of the memory usage. \n",
    "# This includes the memory consumed by the objects themselves (e.g., the strings in the columns).\n",
    "# This is crucial for accurately measuring memory usage when dealing with data types like object or string, \n",
    "# which may contain complex objects (like strings) that consume more memory than the basic data types (like integers or floats)\n",
    "print(adult[\"Marital Status\"].astype(\"object\").memory_usage(deep=True), '\\n') \n",
    "print(adult[\"Marital Status\"].astype(\"category\").memory_usage(deep=True), '\\n')    "
   ]
  },
  {
   "cell_type": "code",
   "execution_count": 9,
   "metadata": {},
   "outputs": [
    {
     "name": "stdout",
     "output_type": "stream",
     "text": [
      "<class 'pandas.core.series.Series'>\n",
      "RangeIndex: 32561 entries, 0 to 32560\n",
      "Series name: Marital Status\n",
      "Non-Null Count  Dtype \n",
      "--------------  ----- \n",
      "32561 non-null  object\n",
      "dtypes: object(1)\n",
      "memory usage: 254.5+ KB\n",
      "None \n",
      "\n",
      "<class 'pandas.core.series.Series'>\n",
      "RangeIndex: 32561 entries, 0 to 32560\n",
      "Series name: Marital Status\n",
      "Non-Null Count  Dtype   \n",
      "--------------  -----   \n",
      "32561 non-null  category\n",
      "dtypes: category(1)\n",
      "memory usage: 32.3 KB\n",
      "None \n",
      "\n"
     ]
    }
   ],
   "source": [
    "# Notice that `.info()` calculates consumed bytes as `.memory_usage()` does\n",
    "print(adult[\"Marital Status\"].astype(\"object\").info(), '\\n') \n",
    "print(adult[\"Marital Status\"].astype(\"category\").info(), '\\n')    "
   ]
  },
  {
   "cell_type": "markdown",
   "metadata": {},
   "source": [
    "# The `.cat` accessor object\n",
    "This object let's us access and manipulate the categories of a categorical Series. Most of the methods we will introduce use the following parameters: \n",
    "-   `new-categories`: a list of new categories for the Series\n",
    "-   `inplace`: a Boolean value for whether or not the method should overwrite the current Series\n",
    "-   `ordered`: a Boolean for whether or not the new Series should be treated as an ordered categorical or not"
   ]
  },
  {
   "cell_type": "code",
   "execution_count": null,
   "metadata": {},
   "outputs": [
    {
     "name": "stderr",
     "output_type": "stream",
     "text": [
      "C:\\Users\\moham\\AppData\\Local\\Temp\\ipykernel_20852\\140116557.py:5: UserWarning: Could not infer format, so each element will be parsed individually, falling back to `dateutil`. To ensure parsing is consistent and as-expected, please specify a format.\n",
      "  dogs = pd.read_csv(r\"D:\\Courses\\DataCamp\\Associate Data Scientist in Python\\Courses' Datasets\\ShelterDogs.csv\", \\\n"
     ]
    },
    {
     "data": {
      "text/html": [
       "<div>\n",
       "<style scoped>\n",
       "    .dataframe tbody tr th:only-of-type {\n",
       "        vertical-align: middle;\n",
       "    }\n",
       "\n",
       "    .dataframe tbody tr th {\n",
       "        vertical-align: top;\n",
       "    }\n",
       "\n",
       "    .dataframe thead th {\n",
       "        text-align: right;\n",
       "    }\n",
       "</style>\n",
       "<table border=\"1\" class=\"dataframe\">\n",
       "  <thead>\n",
       "    <tr style=\"text-align: right;\">\n",
       "      <th></th>\n",
       "      <th>ID</th>\n",
       "      <th>name</th>\n",
       "      <th>age</th>\n",
       "      <th>sex</th>\n",
       "      <th>breed</th>\n",
       "      <th>date_found</th>\n",
       "      <th>adoptable_from</th>\n",
       "      <th>posted</th>\n",
       "      <th>color</th>\n",
       "      <th>coat</th>\n",
       "      <th>size</th>\n",
       "      <th>neutered</th>\n",
       "      <th>housebroken</th>\n",
       "      <th>likes_people</th>\n",
       "      <th>likes_children</th>\n",
       "      <th>get_along_males</th>\n",
       "      <th>get_along_females</th>\n",
       "      <th>get_along_cats</th>\n",
       "      <th>keep_in</th>\n",
       "    </tr>\n",
       "  </thead>\n",
       "  <tbody>\n",
       "    <tr>\n",
       "      <th>0</th>\n",
       "      <td>23807</td>\n",
       "      <td>Gida</td>\n",
       "      <td>0.25</td>\n",
       "      <td>female</td>\n",
       "      <td>Unknown Mix</td>\n",
       "      <td>2019-12-10</td>\n",
       "      <td>12/11/19</td>\n",
       "      <td>12/11/19</td>\n",
       "      <td>red</td>\n",
       "      <td>short</td>\n",
       "      <td>small</td>\n",
       "      <td>no</td>\n",
       "      <td>NaN</td>\n",
       "      <td>NaN</td>\n",
       "      <td>NaN</td>\n",
       "      <td>NaN</td>\n",
       "      <td>NaN</td>\n",
       "      <td>NaN</td>\n",
       "      <td>NaN</td>\n",
       "    </tr>\n",
       "    <tr>\n",
       "      <th>1</th>\n",
       "      <td>533</td>\n",
       "      <td>Frida És Ricsi</td>\n",
       "      <td>0.17</td>\n",
       "      <td>female</td>\n",
       "      <td>Unknown Mix</td>\n",
       "      <td>2019-12-01</td>\n",
       "      <td>12/1/19</td>\n",
       "      <td>12/9/19</td>\n",
       "      <td>black and white</td>\n",
       "      <td>short</td>\n",
       "      <td>small</td>\n",
       "      <td>no</td>\n",
       "      <td>NaN</td>\n",
       "      <td>yes</td>\n",
       "      <td>yes</td>\n",
       "      <td>yes</td>\n",
       "      <td>yes</td>\n",
       "      <td>yes</td>\n",
       "      <td>NaN</td>\n",
       "    </tr>\n",
       "    <tr>\n",
       "      <th>2</th>\n",
       "      <td>23793</td>\n",
       "      <td>NaN</td>\n",
       "      <td>4.00</td>\n",
       "      <td>male</td>\n",
       "      <td>Unknown Mix</td>\n",
       "      <td>2019-12-08</td>\n",
       "      <td>12/23/19</td>\n",
       "      <td>12/8/19</td>\n",
       "      <td>saddle back</td>\n",
       "      <td>short</td>\n",
       "      <td>medium</td>\n",
       "      <td>no</td>\n",
       "      <td>NaN</td>\n",
       "      <td>NaN</td>\n",
       "      <td>NaN</td>\n",
       "      <td>NaN</td>\n",
       "      <td>NaN</td>\n",
       "      <td>NaN</td>\n",
       "      <td>NaN</td>\n",
       "    </tr>\n",
       "    <tr>\n",
       "      <th>3</th>\n",
       "      <td>23795</td>\n",
       "      <td>NaN</td>\n",
       "      <td>1.00</td>\n",
       "      <td>male</td>\n",
       "      <td>Unknown Mix</td>\n",
       "      <td>2019-12-08</td>\n",
       "      <td>12/23/19</td>\n",
       "      <td>12/8/19</td>\n",
       "      <td>yellow-brown</td>\n",
       "      <td>medium</td>\n",
       "      <td>medium</td>\n",
       "      <td>no</td>\n",
       "      <td>NaN</td>\n",
       "      <td>NaN</td>\n",
       "      <td>NaN</td>\n",
       "      <td>NaN</td>\n",
       "      <td>NaN</td>\n",
       "      <td>NaN</td>\n",
       "      <td>NaN</td>\n",
       "    </tr>\n",
       "    <tr>\n",
       "      <th>4</th>\n",
       "      <td>23806</td>\n",
       "      <td>Amy</td>\n",
       "      <td>2.00</td>\n",
       "      <td>female</td>\n",
       "      <td>French Bulldog Mix</td>\n",
       "      <td>2019-12-10</td>\n",
       "      <td>12/11/19</td>\n",
       "      <td>12/11/19</td>\n",
       "      <td>black</td>\n",
       "      <td>short</td>\n",
       "      <td>small</td>\n",
       "      <td>no</td>\n",
       "      <td>NaN</td>\n",
       "      <td>NaN</td>\n",
       "      <td>NaN</td>\n",
       "      <td>NaN</td>\n",
       "      <td>NaN</td>\n",
       "      <td>NaN</td>\n",
       "      <td>NaN</td>\n",
       "    </tr>\n",
       "  </tbody>\n",
       "</table>\n",
       "</div>"
      ],
      "text/plain": [
       "      ID            name   age     sex               breed date_found  \\\n",
       "0  23807            Gida  0.25  female         Unknown Mix 2019-12-10   \n",
       "1    533  Frida És Ricsi  0.17  female         Unknown Mix 2019-12-01   \n",
       "2  23793             NaN  4.00    male         Unknown Mix 2019-12-08   \n",
       "3  23795             NaN  1.00    male         Unknown Mix 2019-12-08   \n",
       "4  23806             Amy  2.00  female  French Bulldog Mix 2019-12-10   \n",
       "\n",
       "  adoptable_from    posted            color    coat    size neutered  \\\n",
       "0       12/11/19  12/11/19              red   short   small       no   \n",
       "1        12/1/19   12/9/19  black and white   short   small       no   \n",
       "2       12/23/19   12/8/19      saddle back   short  medium       no   \n",
       "3       12/23/19   12/8/19     yellow-brown  medium  medium       no   \n",
       "4       12/11/19  12/11/19            black   short   small       no   \n",
       "\n",
       "  housebroken likes_people likes_children get_along_males get_along_females  \\\n",
       "0         NaN          NaN            NaN             NaN               NaN   \n",
       "1         NaN          yes            yes             yes               yes   \n",
       "2         NaN          NaN            NaN             NaN               NaN   \n",
       "3         NaN          NaN            NaN             NaN               NaN   \n",
       "4         NaN          NaN            NaN             NaN               NaN   \n",
       "\n",
       "  get_along_cats keep_in  \n",
       "0            NaN     NaN  \n",
       "1            yes     NaN  \n",
       "2            NaN     NaN  \n",
       "3            NaN     NaN  \n",
       "4            NaN     NaN  "
      ]
     },
     "execution_count": 32,
     "metadata": {},
     "output_type": "execute_result"
    }
   ],
   "source": [
    "category_columns = [\"coat\", \"sex\", \"color\", \"size\", \"likes_people\", \"likes_children\", \"keep_in\", \"breed\"]\n",
    "dtype_category_mapping = dict().fromkeys(category_columns, 'category')\n",
    "\n",
    "dogs = pd.read_csv(\"https://raw.githubusercontent.com/MohamedMostafa259/Pandas-Notes/refs/heads/main/Data/ShelterDogs.csv\", \\\n",
    "\t\t      parse_dates=[\"date_found\"], \\\n",
    "\t\t      dtype=dtype_category_mapping)\n",
    "dogs.head()"
   ]
  },
  {
   "cell_type": "markdown",
   "metadata": {},
   "source": [
    "### Setting Series categories"
   ]
  },
  {
   "cell_type": "code",
   "execution_count": 11,
   "metadata": {},
   "outputs": [
    {
     "name": "stdout",
     "output_type": "stream",
     "text": [
      "coat\n",
      "short         1972\n",
      "medium         565\n",
      "wirehaired     220\n",
      "long           180\n",
      "Name: count, dtype: int64 \n",
      "\n",
      "coat\n",
      "short     1972\n",
      "medium     565\n",
      "NaN        220\n",
      "long       180\n",
      "Name: count, dtype: int64 \n",
      "\n"
     ]
    }
   ],
   "source": [
    "# We are setting the dropna parameter to false to check for any missing entries\n",
    "print(dogs[\"coat\"].value_counts(dropna=False), '\\n')\n",
    "\n",
    "# Any values not listed in the new-categories list will be dropped.\n",
    "# the Series now knows the categories have a specific order\n",
    "dogs[\"coat\"] = dogs[\"coat\"].cat.set_categories(new_categories=[\"short\", \"medium\", \"long\"], ordered=True)\n",
    "print(dogs[\"coat\"].value_counts(dropna=False), '\\n')"
   ]
  },
  {
   "cell_type": "markdown",
   "metadata": {},
   "source": [
    "### Adding Categories"
   ]
  },
  {
   "cell_type": "code",
   "execution_count": 12,
   "metadata": {},
   "outputs": [
    {
     "data": {
      "text/plain": [
       "likes_people\n",
       "yes    1991\n",
       "NaN     938\n",
       "no        8\n",
       "Name: count, dtype: int64"
      ]
     },
     "execution_count": 12,
     "metadata": {},
     "output_type": "execute_result"
    }
   ],
   "source": [
    "# n the likes-people column, there are 938 rows without a response. \n",
    "# Maybe the dog shelter did not check (Truly unknown), or maybe they checked and could not tell (Not sure, dog likes \"some\" people). \n",
    "# Let's add a couple of categories to clean this up.\n",
    "dogs[\"likes_people\"].value_counts(dropna=False)"
   ]
  },
  {
   "cell_type": "code",
   "execution_count": 13,
   "metadata": {},
   "outputs": [
    {
     "name": "stdout",
     "output_type": "stream",
     "text": [
      "Index(['no', 'yes', 'did not check', 'could not tell'], dtype='object') \n",
      "\n"
     ]
    },
    {
     "data": {
      "text/plain": [
       "likes_people\n",
       "yes               1991\n",
       "NaN                938\n",
       "no                   8\n",
       "did not check        0\n",
       "could not tell       0\n",
       "Name: count, dtype: int64"
      ]
     },
     "execution_count": 13,
     "metadata": {},
     "output_type": "execute_result"
    }
   ],
   "source": [
    "dogs[\"likes_people\"] = dogs[\"likes_people\"].cat.add_categories(new_categories=[\"did not check\", \"could not tell\"])\n",
    "print(dogs[\"likes_people\"].cat.categories, '\\n')\n",
    "\n",
    "# this doesn't mean any rows of our data were set to these new categories.\n",
    "dogs[\"likes_people\"].value_counts(dropna=False)"
   ]
  },
  {
   "cell_type": "markdown",
   "metadata": {},
   "source": [
    "### Removing Categories"
   ]
  },
  {
   "cell_type": "code",
   "execution_count": 14,
   "metadata": {},
   "outputs": [
    {
     "data": {
      "text/plain": [
       "\" Example:\\n# It's always good practice to keep a log of all possible values of your categorical data\\ncategories = pd.DataFrame(\\n\\t'blood_type': ['A+', 'A-', 'B+', 'B-', 'AB+', 'AB-', 'O+', 'O-']\\n)\\n\\n# Dropping Inconsistent Categories. Notice that `set()` returns the unique values\\n# The line below equals: set(study_data['blood_type']) - set(categories['blood_type']) → left anti join\\ninconsistent_categories = set(study_data['blood_type']).difference(categories['blood_type']) \\ninconsistent_rows = study_data['blood_type'].isin(inconsistent_categories)\\nconsistent_data = study_data[~inconsistent_rows]\\n\""
      ]
     },
     "execution_count": 14,
     "metadata": {},
     "output_type": "execute_result"
    }
   ],
   "source": [
    "# This means that all wirehaired values will be set to NaN values\n",
    "# dogs[\"coat\"] = dogs[\"coat\"].cat.remove_categories(removals=[\"wirehaired\"])\n",
    "# dogs[\"coat\"].value_counts(dropna=False)\n",
    "\n",
    "# ------------------------------------------\n",
    "\n",
    "# We can drop false categories by storing the right ones somewhere (maybe in a Series of a DataFrame called 'categories')\n",
    "\"\"\" Example:\n",
    "# It's always good practice to keep a log of all possible values of your categorical data\n",
    "categories = pd.DataFrame(\n",
    "\t'blood_type': ['A+', 'A-', 'B+', 'B-', 'AB+', 'AB-', 'O+', 'O-']\n",
    ")\n",
    "\n",
    "# Dropping Inconsistent Categories. Notice that `set()` returns the unique values\n",
    "# The line below equals: set(study_data['blood_type']) - set(categories['blood_type']) → left anti join\n",
    "inconsistent_categories = set(study_data['blood_type']).difference(categories['blood_type']) \n",
    "inconsistent_rows = study_data['blood_type'].isin(inconsistent_categories)\n",
    "consistent_data = study_data[~inconsistent_rows]\n",
    "\"\"\""
   ]
  },
  {
   "cell_type": "markdown",
   "metadata": {},
   "source": [
    "### Renaming Categories"
   ]
  },
  {
   "cell_type": "code",
   "execution_count": 15,
   "metadata": {},
   "outputs": [
    {
     "data": {
      "text/plain": [
       "breed\n",
       "Unknown Mix                                 1524\n",
       "German Shepherd Dog Mix                      190\n",
       "Dachshund Mix                                147\n",
       "Labrador Retriever Mix                        83\n",
       "Staffordshire Terrier Mix                     62\n",
       "                                            ... \n",
       "English Cocker Spaniel, Vizsla Mix             1\n",
       "English Greyhound Mix                          1\n",
       "English Greyhound, Spanish Greyhound Mix       1\n",
       "Fox Terrier, German Shepherd Dog Mix           1\n",
       "Yorkshire Terrier                              1\n",
       "Name: count, Length: 277, dtype: int64"
      ]
     },
     "execution_count": 15,
     "metadata": {},
     "output_type": "execute_result"
    }
   ],
   "source": [
    "dogs[\"breed\"].value_counts(dropna=False)"
   ]
  },
  {
   "cell_type": "code",
   "execution_count": 16,
   "metadata": {},
   "outputs": [
    {
     "name": "stdout",
     "output_type": "stream",
     "text": [
      "sex\n",
      "male      1681\n",
      "female    1256\n",
      "Name: count, dtype: int64 \n",
      "\n"
     ]
    },
    {
     "data": {
      "text/plain": [
       "sex\n",
       "Male      1681\n",
       "Female    1256\n",
       "Name: count, dtype: int64"
      ]
     },
     "execution_count": 16,
     "metadata": {},
     "output_type": "execute_result"
    }
   ],
   "source": [
    "dogs[\"breed\"] = dogs[\"breed\"].cat.rename_categories({\"Unknown Mix\":\"Unknown\"})\n",
    "dogs[\"breed\"].value_counts(dropna=False)\n",
    "\n",
    "# renaming with a function\n",
    "print(dogs[\"sex\"].value_counts(dropna=False), '\\n')\n",
    "dogs[\"sex\"] = dogs[\"sex\"].cat.rename_categories(lambda x: x.title())\n",
    "dogs[\"sex\"].value_counts(dropna=False)\n",
    "\n",
    "# ISSUE:\n",
    "# we cannot use this method to collapse categories into one\n",
    "# dogs[\"breed\"] = dogs[\"breed\"].cat.rename_categories({\"Unknown Mix\":\"Unknown\", \"Mixed Breed\":\"Unknown\"})\n",
    "# Does not work! New names must be unique"
   ]
  },
  {
   "cell_type": "markdown",
   "metadata": {},
   "source": [
    "### Collapsing & Updating Categories"
   ]
  },
  {
   "cell_type": "code",
   "execution_count": 17,
   "metadata": {},
   "outputs": [
    {
     "data": {
      "text/plain": [
       "color\n",
       "black              620\n",
       "brown              293\n",
       "black and brown    287\n",
       "yellow-brown       212\n",
       "black and white    190\n",
       "black and tan      155\n",
       "apricot            142\n",
       "brown and white    124\n",
       "white              124\n",
       "sable              118\n",
       "tricolor            99\n",
       "saddle back         91\n",
       "striped             89\n",
       "gray                64\n",
       "yellow              63\n",
       "golden              61\n",
       "red                 53\n",
       "spotty              47\n",
       "gray and white      35\n",
       "gray and black      28\n",
       "wild boar           18\n",
       "red and white       14\n",
       "dotted              10\n",
       "Name: count, dtype: int64"
      ]
     },
     "execution_count": 17,
     "metadata": {},
     "output_type": "execute_result"
    }
   ],
   "source": [
    "# Dog hair can be many different colors. \n",
    "# It might make sense for us to make a new categorical column that just has a dog's main or primary color, \n",
    "# instead of all of the combinations of colors.\n",
    "dogs[\"color\"].value_counts(dropna=False)"
   ]
  },
  {
   "cell_type": "code",
   "execution_count": 18,
   "metadata": {},
   "outputs": [
    {
     "name": "stderr",
     "output_type": "stream",
     "text": [
      "C:\\Users\\moham\\AppData\\Local\\Temp\\ipykernel_20852\\4092843654.py:3: FutureWarning: The behavior of Series.replace (and DataFrame.replace) with CategoricalDtype is deprecated. In a future version, replace will only be used for cases that preserve the categories. To change the categories, use ser.cat.rename_categories instead.\n",
      "  dogs[\"color\"] = dogs[\"color\"].replace({\"black and brown\": \"black\", \"black and tan\": \"black\", \"black and white\": \"black\"})\n"
     ]
    },
    {
     "data": {
      "text/plain": [
       "CategoricalDtype(categories=['apricot', 'black', 'brown', 'brown and white', 'dotted',\n",
       "                  'golden', 'gray', 'gray and black', 'gray and white', 'red',\n",
       "                  'red and white', 'sable', 'saddle back', 'spotty', 'striped',\n",
       "                  'tricolor', 'white', 'wild boar', 'yellow', 'yellow-brown'],\n",
       ", ordered=False, categories_dtype=object)"
      ]
     },
     "execution_count": 18,
     "metadata": {},
     "output_type": "execute_result"
    }
   ],
   "source": [
    "# This method does not use the `.cat` accessor object\n",
    "# We can also use `.map()` here\n",
    "dogs[\"color\"] = dogs[\"color\"].replace({\"black and brown\": \"black\", \"black and tan\": \"black\", \"black and white\": \"black\"})\n",
    "dogs[\"color\"].dtype"
   ]
  },
  {
   "cell_type": "markdown",
   "metadata": {},
   "source": [
    "### Reordering categories for display purposes\n",
    "\n",
    "##### Why?\n",
    "\n",
    "1. Creating an ordinal variable\n",
    "\n",
    "2. To set the order that variables are displayed in analysis"
   ]
  },
  {
   "cell_type": "code",
   "execution_count": 19,
   "metadata": {},
   "outputs": [
    {
     "data": {
      "image/png": "[encoded data removed]",
      "text/plain": [
       "<Figure size 640x480 with 1 Axes>"
      ]
     },
     "metadata": {},
     "output_type": "display_data"
    },
    {
     "name": "stderr",
     "output_type": "stream",
     "text": [
      "C:\\Users\\moham\\AppData\\Local\\Temp\\ipykernel_20852\\4287866559.py:5: FutureWarning: The default of observed=False is deprecated and will be changed to True in a future version of pandas. Pass observed=False to retain current behavior or observed=True to adopt the future default and silence this warning.\n",
      "  print(dogs.groupby(\"coat\")[\"age\"].mean(), '\\n')\n"
     ]
    },
    {
     "name": "stdout",
     "output_type": "stream",
     "text": [
      "coat\n",
      "long      9.552056\n",
      "short     8.364746\n",
      "medium    9.027982\n",
      "Name: age, dtype: float64 \n",
      "\n"
     ]
    },
    {
     "data": {
      "image/png": "[encoded data removed]",
      "text/plain": [
       "<Figure size 640x480 with 1 Axes>"
      ]
     },
     "metadata": {},
     "output_type": "display_data"
    },
    {
     "name": "stderr",
     "output_type": "stream",
     "text": [
      "C:\\Users\\moham\\AppData\\Local\\Temp\\ipykernel_20852\\4287866559.py:10: FutureWarning: The default of observed=False is deprecated and will be changed to True in a future version of pandas. Pass observed=False to retain current behavior or observed=True to adopt the future default and silence this warning.\n",
      "  print(dogs.groupby(\"coat\")[\"age\"].mean(), '\\n')\n"
     ]
    },
    {
     "name": "stdout",
     "output_type": "stream",
     "text": [
      "coat\n",
      "medium    9.027982\n",
      "long      9.552056\n",
      "short     8.364746\n",
      "Name: age, dtype: float64 \n",
      "\n"
     ]
    },
    {
     "data": {
      "image/png": "[encoded data removed]",
      "text/plain": [
       "<Figure size 640x480 with 1 Axes>"
      ]
     },
     "metadata": {},
     "output_type": "display_data"
    },
    {
     "name": "stdout",
     "output_type": "stream",
     "text": [
      "coat\n",
      "short     8.364746\n",
      "medium    9.027982\n",
      "long      9.552056\n",
      "Name: age, dtype: float64 \n",
      "\n"
     ]
    },
    {
     "name": "stderr",
     "output_type": "stream",
     "text": [
      "C:\\Users\\moham\\AppData\\Local\\Temp\\ipykernel_20852\\4287866559.py:16: FutureWarning: The default of observed=False is deprecated and will be changed to True in a future version of pandas. Pass observed=False to retain current behavior or observed=True to adopt the future default and silence this warning.\n",
      "  print(dogs.groupby(\"coat\")[\"age\"].mean(), '\\n')\n"
     ]
    }
   ],
   "source": [
    "# Instead of setting `ordered` to `False`, we may not pass the arg originally\n",
    "dogs[\"coat\"] = dogs[\"coat\"].cat.reorder_categories(new_categories=[\"long\", \"short\", \"medium\"], ordered=False)\n",
    "sns.barplot(data=dogs, x=\"coat\", y=\"age\")\n",
    "plt.show()\n",
    "print(dogs.groupby(\"coat\")[\"age\"].mean(), '\\n')\n",
    "\n",
    "dogs[\"coat\"] = dogs[\"coat\"].cat.reorder_categories(new_categories=[\"medium\", \"long\", \"short\"], ordered=False)\n",
    "sns.barplot(data=dogs, x=\"coat\", y=\"age\")\n",
    "plt.show()\n",
    "print(dogs.groupby(\"coat\")[\"age\"].mean(), '\\n')\n",
    "\n",
    "# `ordered` = `True` : Now, pandas knows that the variable `coat` has a natural order (ordinal)\n",
    "dogs[\"coat\"] = dogs[\"coat\"].cat.reorder_categories(new_categories=[\"short\", \"medium\", \"long\"], ordered=True)\n",
    "sns.barplot(data=dogs, x=\"coat\", y=\"age\")\n",
    "plt.show()\n",
    "print(dogs.groupby(\"coat\")[\"age\"].mean(), '\\n')\n",
    "\n",
    "# Note that the `value_counts()` method does not automatically use the categorical order when printing results;\n",
    "# however, we can use the `sort` parameter, `value_counts(sort=False)`, so that the output will be ordered by the order of the category."
   ]
  },
  {
   "cell_type": "markdown",
   "metadata": {},
   "source": [
    "# Possible issues with categorical data\n",
    "\n",
    "-   Inconsistent values: \"Ham\", \"ham\", \" Ham\"\n",
    "\n",
    "\t-   Capitalization and white spaces are common culprits here and these issues may occur when appending different data sources or columns. \n",
    "\n",
    "-   Misspelled values: \"Ham\", \"Hma\"\n",
    "\n",
    "\t-   Spelling issues can cause big problems. This occurs frequently in surveys or online forms when the field is left to the user to fill out.\n",
    "\n",
    "-   Wrong `dtype`: `df[\"categorical col\"].dtype` outputs `object` \n",
    "\n",
    "\t-   If we do make corrections, we need to make sure our column `dtype` remains `category`, and is not changed to an `object`.\n",
    "\n",
    "### Identifying Issues\n",
    "\n",
    "Use either `Series.cat.categories` OR `Series.value_counts(dropna=False)` \n",
    "\n",
    "Then, ... <br>\n",
    "Fortunately, we have the same resources available for fixing categorical values that we do for fixing strings.\n",
    "\n",
    "`Series.str.strip()` → fixing white leading and trailing spaces <br>\n",
    "\n",
    "`Series.str.lower()/upper()/title()` → fixing capitalization <br>\n",
    "\n",
    "`Series.replace(dict)` → fixing misspelled words <br>"
   ]
  },
  {
   "cell_type": "code",
   "execution_count": 20,
   "metadata": {},
   "outputs": [
    {
     "data": {
      "text/plain": [
       "get_along_cats\n",
       "NaN    2502\n",
       "yes     275\n",
       "no      155\n",
       "Noo       2\n",
       "No        1\n",
       "NO        1\n",
       " No       1\n",
       "Name: count, dtype: int64"
      ]
     },
     "execution_count": 20,
     "metadata": {},
     "output_type": "execute_result"
    }
   ],
   "source": [
    "# We notice 3 issues. Varying capitalization, leading white spaces, and misspellings\n",
    "dogs[\"get_along_cats\"].value_counts(dropna=False)"
   ]
  },
  {
   "cell_type": "code",
   "execution_count": 21,
   "metadata": {},
   "outputs": [
    {
     "data": {
      "text/plain": [
       "get_along_cats\n",
       "NaN    2502\n",
       "yes     275\n",
       "no      155\n",
       "No        2\n",
       "Noo       2\n",
       "NO        1\n",
       "Name: count, dtype: int64"
      ]
     },
     "execution_count": 21,
     "metadata": {},
     "output_type": "execute_result"
    }
   ],
   "source": [
    "dogs[\"get_along_cats\"] = dogs[\"get_along_cats\"].str.strip()\n",
    "dogs[\"get_along_cats\"].value_counts(dropna=False)"
   ]
  },
  {
   "cell_type": "code",
   "execution_count": 22,
   "metadata": {},
   "outputs": [
    {
     "data": {
      "text/plain": [
       "get_along_cats\n",
       "NaN    2502\n",
       "Yes     275\n",
       "No      158\n",
       "Noo       2\n",
       "Name: count, dtype: int64"
      ]
     },
     "execution_count": 22,
     "metadata": {},
     "output_type": "execute_result"
    }
   ],
   "source": [
    "dogs[\"get_along_cats\"] = dogs[\"get_along_cats\"].str.title()\n",
    "dogs[\"get_along_cats\"].value_counts(dropna=False)"
   ]
  },
  {
   "cell_type": "code",
   "execution_count": 23,
   "metadata": {},
   "outputs": [
    {
     "data": {
      "text/plain": [
       "get_along_cats\n",
       "NaN    2502\n",
       "Yes     275\n",
       "No      160\n",
       "Name: count, dtype: int64"
      ]
     },
     "execution_count": 23,
     "metadata": {},
     "output_type": "execute_result"
    }
   ],
   "source": [
    "dogs[\"get_along_cats\"] = dogs[\"get_along_cats\"].replace({\"Noo\":\"No\"})\n",
    "dogs[\"get_along_cats\"].value_counts(dropna=False)"
   ]
  },
  {
   "cell_type": "code",
   "execution_count": 34,
   "metadata": {},
   "outputs": [
    {
     "name": "stdout",
     "output_type": "stream",
     "text": [
      "object\n"
     ]
    }
   ],
   "source": [
    "# We can write all the cleaning code in the previous 3 cells in just one line ↓↓\n",
    "# dogs[\"get_along_cats\"] = dogs[\"get_along_cats\"].str.strip().str.title().replace({\"Noo\":\"No\"})\n",
    "\n",
    "# After the cleaning we've made, we should check our Series `dtype`\n",
    "print(dogs[\"get_along_cats\"].dtype) # outputs: dtype('O') => 'O' = 'object'\n",
    "\n",
    "# so, we should convert it again to the 'category' dtype\n",
    "dogs[\"get_along_cats\"] = dogs[\"get_along_cats\"].astype(\"category\")"
   ]
  },
  {
   "cell_type": "markdown",
   "metadata": {},
   "source": [
    "# Filtering categorical data with `Series.str`"
   ]
  },
  {
   "cell_type": "code",
   "execution_count": 25,
   "metadata": {},
   "outputs": [
    {
     "data": {
      "text/plain": [
       "284"
      ]
     },
     "execution_count": 25,
     "metadata": {},
     "output_type": "execute_result"
    }
   ],
   "source": [
    "# We are setting the regex parameter to false in this example so that we use string matching and not a regular expression\n",
    "dogs[dogs[\"breed\"].str.contains(\"Shepherd\", regex=False)].shape[0] # number of dogs that hold a certain condition"
   ]
  },
  {
   "cell_type": "markdown",
   "metadata": {},
   "source": [
    "# Common Pitfalls of the \"category\" `dtype`\n",
    "-   Using the `.str` accessor to manipulate data of \"category\" `dtype` converts the Series to an \"object\"\n",
    "\t-   `Series = Series.astype(\"category\")`\n",
    "\n",
    "-   The `.apply()` method outputs a new Series as an object Solution: \n",
    "\t-   `Series = Series.astype(\"category\")`\n",
    "\n",
    "-   Numpy functions generally don't work with categorical Series\n",
    "\t-   For example, if `hotels[\"stars\"]` is a categorical Series, then `hotels[\"stars\"].sum()` may give an error\n",
    "\n",
    "\t\t-   Solution: `hotels[\"stars\"].astype(int).sum()`"
   ]
  }
 ],
 "metadata": {
  "kernelspec": {
   "display_name": "Python 3",
   "language": "python",
   "name": "python3"
  },
  "language_info": {
   "codemirror_mode": {
    "name": "ipython",
    "version": 3
   },
   "file_extension": ".py",
   "mimetype": "text/x-python",
   "name": "python",
   "nbconvert_exporter": "python",
   "pygments_lexer": "ipython3",
   "version": "3.12.1"
  }
 },
 "nbformat": 4,
 "nbformat_minor": 2
}
