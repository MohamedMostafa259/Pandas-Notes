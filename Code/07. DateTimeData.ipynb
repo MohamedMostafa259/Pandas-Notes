{
 "cells": [
  {
   "cell_type": "code",
   "execution_count": 36,
   "metadata": {},
   "outputs": [],
   "source": [
    "import pandas as pd\n",
    "import matplotlib.pyplot as plt\n",
    "import seaborn as sns"
   ]
  },
  {
   "cell_type": "code",
   "execution_count": 37,
   "metadata": {},
   "outputs": [
    {
     "data": {
      "text/html": [
       "<div>\n",
       "<style scoped>\n",
       "    .dataframe tbody tr th:only-of-type {\n",
       "        vertical-align: middle;\n",
       "    }\n",
       "\n",
       "    .dataframe tbody tr th {\n",
       "        vertical-align: top;\n",
       "    }\n",
       "\n",
       "    .dataframe thead th {\n",
       "        text-align: right;\n",
       "    }\n",
       "</style>\n",
       "<table border=\"1\" class=\"dataframe\">\n",
       "  <thead>\n",
       "    <tr style=\"text-align: right;\">\n",
       "      <th></th>\n",
       "      <th>store</th>\n",
       "      <th>type</th>\n",
       "      <th>department</th>\n",
       "      <th>date</th>\n",
       "      <th>weekly_sales</th>\n",
       "      <th>is_holiday</th>\n",
       "      <th>temperature_c</th>\n",
       "      <th>fuel_price_usd_per_l</th>\n",
       "      <th>unemployment</th>\n",
       "    </tr>\n",
       "  </thead>\n",
       "  <tbody>\n",
       "    <tr>\n",
       "      <th>0</th>\n",
       "      <td>1</td>\n",
       "      <td>A</td>\n",
       "      <td>1</td>\n",
       "      <td>2010-02-05</td>\n",
       "      <td>24924.50</td>\n",
       "      <td>False</td>\n",
       "      <td>5.728</td>\n",
       "      <td>0.679</td>\n",
       "      <td>8.106</td>\n",
       "    </tr>\n",
       "    <tr>\n",
       "      <th>1</th>\n",
       "      <td>2</td>\n",
       "      <td>A</td>\n",
       "      <td>1</td>\n",
       "      <td>2010-03-05</td>\n",
       "      <td>21827.90</td>\n",
       "      <td>False</td>\n",
       "      <td>8.056</td>\n",
       "      <td>0.693</td>\n",
       "      <td>8.106</td>\n",
       "    </tr>\n",
       "    <tr>\n",
       "      <th>2</th>\n",
       "      <td>3</td>\n",
       "      <td>B</td>\n",
       "      <td>1</td>\n",
       "      <td>2010-04-02</td>\n",
       "      <td>57258.43</td>\n",
       "      <td>True</td>\n",
       "      <td>16.817</td>\n",
       "      <td>0.718</td>\n",
       "      <td>7.808</td>\n",
       "    </tr>\n",
       "    <tr>\n",
       "      <th>3</th>\n",
       "      <td>4</td>\n",
       "      <td>B</td>\n",
       "      <td>2</td>\n",
       "      <td>2010-05-07</td>\n",
       "      <td>17413.94</td>\n",
       "      <td>False</td>\n",
       "      <td>22.528</td>\n",
       "      <td>0.749</td>\n",
       "      <td>7.808</td>\n",
       "    </tr>\n",
       "    <tr>\n",
       "      <th>4</th>\n",
       "      <td>3</td>\n",
       "      <td>B</td>\n",
       "      <td>2</td>\n",
       "      <td>2010-06-04</td>\n",
       "      <td>17558.09</td>\n",
       "      <td>False</td>\n",
       "      <td>27.050</td>\n",
       "      <td>0.715</td>\n",
       "      <td>7.808</td>\n",
       "    </tr>\n",
       "    <tr>\n",
       "      <th>5</th>\n",
       "      <td>6</td>\n",
       "      <td>C</td>\n",
       "      <td>2</td>\n",
       "      <td>2010-06-04</td>\n",
       "      <td>17558.09</td>\n",
       "      <td>True</td>\n",
       "      <td>27.050</td>\n",
       "      <td>0.715</td>\n",
       "      <td>7.808</td>\n",
       "    </tr>\n",
       "    <tr>\n",
       "      <th>6</th>\n",
       "      <td>7</td>\n",
       "      <td>C</td>\n",
       "      <td>3</td>\n",
       "      <td>2010-06-04</td>\n",
       "      <td>17558.09</td>\n",
       "      <td>False</td>\n",
       "      <td>27.050</td>\n",
       "      <td>0.715</td>\n",
       "      <td>7.808</td>\n",
       "    </tr>\n",
       "    <tr>\n",
       "      <th>7</th>\n",
       "      <td>7</td>\n",
       "      <td>C</td>\n",
       "      <td>3</td>\n",
       "      <td>2010-06-04</td>\n",
       "      <td>17558.09</td>\n",
       "      <td>False</td>\n",
       "      <td>27.050</td>\n",
       "      <td>0.715</td>\n",
       "      <td>7.808</td>\n",
       "    </tr>\n",
       "    <tr>\n",
       "      <th>8</th>\n",
       "      <td>7</td>\n",
       "      <td>C</td>\n",
       "      <td>3</td>\n",
       "      <td>2010-06-04</td>\n",
       "      <td>17558.09</td>\n",
       "      <td>False</td>\n",
       "      <td>27.050</td>\n",
       "      <td>0.715</td>\n",
       "      <td>7.808</td>\n",
       "    </tr>\n",
       "  </tbody>\n",
       "</table>\n",
       "</div>"
      ],
      "text/plain": [
       "   store type  department        date  weekly_sales  is_holiday  \\\n",
       "0      1    A           1  2010-02-05      24924.50       False   \n",
       "1      2    A           1  2010-03-05      21827.90       False   \n",
       "2      3    B           1  2010-04-02      57258.43        True   \n",
       "3      4    B           2  2010-05-07      17413.94       False   \n",
       "4      3    B           2  2010-06-04      17558.09       False   \n",
       "5      6    C           2  2010-06-04      17558.09        True   \n",
       "6      7    C           3  2010-06-04      17558.09       False   \n",
       "7      7    C           3  2010-06-04      17558.09       False   \n",
       "8      7    C           3  2010-06-04      17558.09       False   \n",
       "\n",
       "   temperature_c  fuel_price_usd_per_l  unemployment  \n",
       "0          5.728                 0.679         8.106  \n",
       "1          8.056                 0.693         8.106  \n",
       "2         16.817                 0.718         7.808  \n",
       "3         22.528                 0.749         7.808  \n",
       "4         27.050                 0.715         7.808  \n",
       "5         27.050                 0.715         7.808  \n",
       "6         27.050                 0.715         7.808  \n",
       "7         27.050                 0.715         7.808  \n",
       "8         27.050                 0.715         7.808  "
      ]
     },
     "execution_count": 37,
     "metadata": {},
     "output_type": "execute_result"
    }
   ],
   "source": [
    "sales = pd.read_csv(\"https://raw.githubusercontent.com/MohamedMostafa259/Pandas-Notes/refs/heads/main/Data/sales_sample.csv\")\n",
    "sales # last 3 rows are the same"
   ]
  },
  {
   "cell_type": "markdown",
   "metadata": {},
   "source": [
    "### Extracting the Year, Month, and Day from the Date Column\n",
    "-   You can access the components of a date (year, month and day) using code of the form `dataframe[\"column\"].dt.component`. For example, the month component is `dataframe[\"column\"].dt.month`, and the year component is `dataframe[\"column\"].dt.year`.\n",
    "\n",
    "-   The `dt` accessor in pandas is used to access the datetime properties of a Series that contains datetime objects. It allows you to extract various components of the datetime, such as the year, month, day, hour, minute, second, etc."
   ]
  },
  {
   "cell_type": "code",
   "execution_count": 38,
   "metadata": {},
   "outputs": [
    {
     "data": {
      "text/html": [
       "<div>\n",
       "<style scoped>\n",
       "    .dataframe tbody tr th:only-of-type {\n",
       "        vertical-align: middle;\n",
       "    }\n",
       "\n",
       "    .dataframe tbody tr th {\n",
       "        vertical-align: top;\n",
       "    }\n",
       "\n",
       "    .dataframe thead th {\n",
       "        text-align: right;\n",
       "    }\n",
       "</style>\n",
       "<table border=\"1\" class=\"dataframe\">\n",
       "  <thead>\n",
       "    <tr style=\"text-align: right;\">\n",
       "      <th></th>\n",
       "      <th>store</th>\n",
       "      <th>type</th>\n",
       "      <th>department</th>\n",
       "      <th>date</th>\n",
       "      <th>weekly_sales</th>\n",
       "      <th>is_holiday</th>\n",
       "      <th>temperature_c</th>\n",
       "      <th>fuel_price_usd_per_l</th>\n",
       "      <th>unemployment</th>\n",
       "      <th>year</th>\n",
       "    </tr>\n",
       "  </thead>\n",
       "  <tbody>\n",
       "    <tr>\n",
       "      <th>0</th>\n",
       "      <td>1</td>\n",
       "      <td>A</td>\n",
       "      <td>1</td>\n",
       "      <td>2010-02-05</td>\n",
       "      <td>24924.50</td>\n",
       "      <td>False</td>\n",
       "      <td>5.728</td>\n",
       "      <td>0.679</td>\n",
       "      <td>8.106</td>\n",
       "      <td>2010</td>\n",
       "    </tr>\n",
       "    <tr>\n",
       "      <th>1</th>\n",
       "      <td>2</td>\n",
       "      <td>A</td>\n",
       "      <td>1</td>\n",
       "      <td>2010-03-05</td>\n",
       "      <td>21827.90</td>\n",
       "      <td>False</td>\n",
       "      <td>8.056</td>\n",
       "      <td>0.693</td>\n",
       "      <td>8.106</td>\n",
       "      <td>2010</td>\n",
       "    </tr>\n",
       "    <tr>\n",
       "      <th>2</th>\n",
       "      <td>3</td>\n",
       "      <td>B</td>\n",
       "      <td>1</td>\n",
       "      <td>2010-04-02</td>\n",
       "      <td>57258.43</td>\n",
       "      <td>True</td>\n",
       "      <td>16.817</td>\n",
       "      <td>0.718</td>\n",
       "      <td>7.808</td>\n",
       "      <td>2010</td>\n",
       "    </tr>\n",
       "    <tr>\n",
       "      <th>3</th>\n",
       "      <td>4</td>\n",
       "      <td>B</td>\n",
       "      <td>2</td>\n",
       "      <td>2010-05-07</td>\n",
       "      <td>17413.94</td>\n",
       "      <td>False</td>\n",
       "      <td>22.528</td>\n",
       "      <td>0.749</td>\n",
       "      <td>7.808</td>\n",
       "      <td>2010</td>\n",
       "    </tr>\n",
       "    <tr>\n",
       "      <th>4</th>\n",
       "      <td>3</td>\n",
       "      <td>B</td>\n",
       "      <td>2</td>\n",
       "      <td>2010-06-04</td>\n",
       "      <td>17558.09</td>\n",
       "      <td>False</td>\n",
       "      <td>27.050</td>\n",
       "      <td>0.715</td>\n",
       "      <td>7.808</td>\n",
       "      <td>2010</td>\n",
       "    </tr>\n",
       "    <tr>\n",
       "      <th>5</th>\n",
       "      <td>6</td>\n",
       "      <td>C</td>\n",
       "      <td>2</td>\n",
       "      <td>2010-06-04</td>\n",
       "      <td>17558.09</td>\n",
       "      <td>True</td>\n",
       "      <td>27.050</td>\n",
       "      <td>0.715</td>\n",
       "      <td>7.808</td>\n",
       "      <td>2010</td>\n",
       "    </tr>\n",
       "    <tr>\n",
       "      <th>6</th>\n",
       "      <td>7</td>\n",
       "      <td>C</td>\n",
       "      <td>3</td>\n",
       "      <td>2010-06-04</td>\n",
       "      <td>17558.09</td>\n",
       "      <td>False</td>\n",
       "      <td>27.050</td>\n",
       "      <td>0.715</td>\n",
       "      <td>7.808</td>\n",
       "      <td>2010</td>\n",
       "    </tr>\n",
       "    <tr>\n",
       "      <th>7</th>\n",
       "      <td>7</td>\n",
       "      <td>C</td>\n",
       "      <td>3</td>\n",
       "      <td>2010-06-04</td>\n",
       "      <td>17558.09</td>\n",
       "      <td>False</td>\n",
       "      <td>27.050</td>\n",
       "      <td>0.715</td>\n",
       "      <td>7.808</td>\n",
       "      <td>2010</td>\n",
       "    </tr>\n",
       "    <tr>\n",
       "      <th>8</th>\n",
       "      <td>7</td>\n",
       "      <td>C</td>\n",
       "      <td>3</td>\n",
       "      <td>2010-06-04</td>\n",
       "      <td>17558.09</td>\n",
       "      <td>False</td>\n",
       "      <td>27.050</td>\n",
       "      <td>0.715</td>\n",
       "      <td>7.808</td>\n",
       "      <td>2010</td>\n",
       "    </tr>\n",
       "  </tbody>\n",
       "</table>\n",
       "</div>"
      ],
      "text/plain": [
       "   store type  department       date  weekly_sales  is_holiday  temperature_c  \\\n",
       "0      1    A           1 2010-02-05      24924.50       False          5.728   \n",
       "1      2    A           1 2010-03-05      21827.90       False          8.056   \n",
       "2      3    B           1 2010-04-02      57258.43        True         16.817   \n",
       "3      4    B           2 2010-05-07      17413.94       False         22.528   \n",
       "4      3    B           2 2010-06-04      17558.09       False         27.050   \n",
       "5      6    C           2 2010-06-04      17558.09        True         27.050   \n",
       "6      7    C           3 2010-06-04      17558.09       False         27.050   \n",
       "7      7    C           3 2010-06-04      17558.09       False         27.050   \n",
       "8      7    C           3 2010-06-04      17558.09       False         27.050   \n",
       "\n",
       "   fuel_price_usd_per_l  unemployment  year  \n",
       "0                 0.679         8.106  2010  \n",
       "1                 0.693         8.106  2010  \n",
       "2                 0.718         7.808  2010  \n",
       "3                 0.749         7.808  2010  \n",
       "4                 0.715         7.808  2010  \n",
       "5                 0.715         7.808  2010  \n",
       "6                 0.715         7.808  2010  \n",
       "7                 0.715         7.808  2010  \n",
       "8                 0.715         7.808  2010  "
      ]
     },
     "execution_count": 38,
     "metadata": {},
     "output_type": "execute_result"
    }
   ],
   "source": [
    "# convert the column to datetime format\n",
    "sales[\"date\"] = pd.to_datetime(sales[\"date\"]) # This ensures that pandas recognizes the column as containing datetime objects\n",
    "sales[\"year\"] = sales[\"date\"].dt.year # extracting the year component from the 'date' column\n",
    "sales\n",
    "\n",
    "# NOTE: you can access all of the typical `datetime` methods within the namespace `.dt`"
   ]
  },
  {
   "cell_type": "markdown",
   "metadata": {},
   "source": [
    "# Patterns over time\n",
    "When data includes dates or time values, we'll want to examine whether there might be patterns over time\n",
    "# DateTime Data\n",
    "### Converting Columns to DateTime Data "
   ]
  },
  {
   "cell_type": "code",
   "execution_count": 39,
   "metadata": {},
   "outputs": [
    {
     "data": {
      "text/html": [
       "<div>\n",
       "<style scoped>\n",
       "    .dataframe tbody tr th:only-of-type {\n",
       "        vertical-align: middle;\n",
       "    }\n",
       "\n",
       "    .dataframe tbody tr th {\n",
       "        vertical-align: top;\n",
       "    }\n",
       "\n",
       "    .dataframe thead th {\n",
       "        text-align: right;\n",
       "    }\n",
       "</style>\n",
       "<table border=\"1\" class=\"dataframe\">\n",
       "  <thead>\n",
       "    <tr style=\"text-align: right;\">\n",
       "      <th></th>\n",
       "      <th>divorce_date</th>\n",
       "      <th>dob_man</th>\n",
       "      <th>education_man</th>\n",
       "      <th>income_man</th>\n",
       "      <th>dob_woman</th>\n",
       "      <th>education_woman</th>\n",
       "      <th>income_woman</th>\n",
       "      <th>marriage_date</th>\n",
       "      <th>marriage_duration</th>\n",
       "      <th>num_kids</th>\n",
       "    </tr>\n",
       "  </thead>\n",
       "  <tbody>\n",
       "    <tr>\n",
       "      <th>0</th>\n",
       "      <td>2006-09-06</td>\n",
       "      <td>1975-12-18</td>\n",
       "      <td>Secondary</td>\n",
       "      <td>2000.0</td>\n",
       "      <td>1983-08-01</td>\n",
       "      <td>Secondary</td>\n",
       "      <td>1800.0</td>\n",
       "      <td>2000-06-26</td>\n",
       "      <td>5.0</td>\n",
       "      <td>1.0</td>\n",
       "    </tr>\n",
       "    <tr>\n",
       "      <th>1</th>\n",
       "      <td>2008-01-02</td>\n",
       "      <td>1976-11-17</td>\n",
       "      <td>Professional</td>\n",
       "      <td>6000.0</td>\n",
       "      <td>1977-03-13</td>\n",
       "      <td>Professional</td>\n",
       "      <td>6000.0</td>\n",
       "      <td>2001-09-02</td>\n",
       "      <td>7.0</td>\n",
       "      <td>NaN</td>\n",
       "    </tr>\n",
       "    <tr>\n",
       "      <th>2</th>\n",
       "      <td>2011-01-02</td>\n",
       "      <td>1969-04-06</td>\n",
       "      <td>Preparatory</td>\n",
       "      <td>5000.0</td>\n",
       "      <td>1970-02-16</td>\n",
       "      <td>Professional</td>\n",
       "      <td>5000.0</td>\n",
       "      <td>2000-02-02</td>\n",
       "      <td>2.0</td>\n",
       "      <td>2.0</td>\n",
       "    </tr>\n",
       "    <tr>\n",
       "      <th>3</th>\n",
       "      <td>2011-01-02</td>\n",
       "      <td>1979-11-13</td>\n",
       "      <td>Secondary</td>\n",
       "      <td>12000.0</td>\n",
       "      <td>1981-05-13</td>\n",
       "      <td>Secondary</td>\n",
       "      <td>12000.0</td>\n",
       "      <td>2006-05-13</td>\n",
       "      <td>2.0</td>\n",
       "      <td>NaN</td>\n",
       "    </tr>\n",
       "    <tr>\n",
       "      <th>4</th>\n",
       "      <td>2011-01-02</td>\n",
       "      <td>1982-09-20</td>\n",
       "      <td>Professional</td>\n",
       "      <td>6000.0</td>\n",
       "      <td>1988-01-30</td>\n",
       "      <td>Professional</td>\n",
       "      <td>10000.0</td>\n",
       "      <td>2007-08-06</td>\n",
       "      <td>3.0</td>\n",
       "      <td>NaN</td>\n",
       "    </tr>\n",
       "    <tr>\n",
       "      <th>...</th>\n",
       "      <td>...</td>\n",
       "      <td>...</td>\n",
       "      <td>...</td>\n",
       "      <td>...</td>\n",
       "      <td>...</td>\n",
       "      <td>...</td>\n",
       "      <td>...</td>\n",
       "      <td>...</td>\n",
       "      <td>...</td>\n",
       "      <td>...</td>\n",
       "    </tr>\n",
       "    <tr>\n",
       "      <th>2204</th>\n",
       "      <td>2006-10-31</td>\n",
       "      <td>1969-11-27</td>\n",
       "      <td>Professional</td>\n",
       "      <td>6000.0</td>\n",
       "      <td>1975-09-01</td>\n",
       "      <td>Professional</td>\n",
       "      <td>14000.0</td>\n",
       "      <td>2002-03-08</td>\n",
       "      <td>4.0</td>\n",
       "      <td>NaN</td>\n",
       "    </tr>\n",
       "    <tr>\n",
       "      <th>2205</th>\n",
       "      <td>2006-10-31</td>\n",
       "      <td>1970-09-17</td>\n",
       "      <td>Professional</td>\n",
       "      <td>6000.0</td>\n",
       "      <td>1977-07-22</td>\n",
       "      <td>Professional</td>\n",
       "      <td>6000.0</td>\n",
       "      <td>2002-03-22</td>\n",
       "      <td>4.0</td>\n",
       "      <td>NaN</td>\n",
       "    </tr>\n",
       "    <tr>\n",
       "      <th>2206</th>\n",
       "      <td>2011-10-31</td>\n",
       "      <td>1976-03-11</td>\n",
       "      <td>Professional</td>\n",
       "      <td>8000.0</td>\n",
       "      <td>1978-12-28</td>\n",
       "      <td>Professional</td>\n",
       "      <td>7000.0</td>\n",
       "      <td>2009-02-10</td>\n",
       "      <td>2.0</td>\n",
       "      <td>NaN</td>\n",
       "    </tr>\n",
       "    <tr>\n",
       "      <th>2207</th>\n",
       "      <td>2012-10-31</td>\n",
       "      <td>1977-10-29</td>\n",
       "      <td>Professional</td>\n",
       "      <td>12500.0</td>\n",
       "      <td>1978-12-01</td>\n",
       "      <td>Professional</td>\n",
       "      <td>6000.0</td>\n",
       "      <td>2008-10-25</td>\n",
       "      <td>3.0</td>\n",
       "      <td>NaN</td>\n",
       "    </tr>\n",
       "    <tr>\n",
       "      <th>2208</th>\n",
       "      <td>2013-12-31</td>\n",
       "      <td>1960-06-22</td>\n",
       "      <td>Professional</td>\n",
       "      <td>20000.0</td>\n",
       "      <td>1972-01-22</td>\n",
       "      <td>Professional</td>\n",
       "      <td>20000.0</td>\n",
       "      <td>2009-08-22</td>\n",
       "      <td>4.0</td>\n",
       "      <td>NaN</td>\n",
       "    </tr>\n",
       "  </tbody>\n",
       "</table>\n",
       "<p>2209 rows × 10 columns</p>\n",
       "</div>"
      ],
      "text/plain": [
       "     divorce_date    dob_man education_man  income_man  dob_woman  \\\n",
       "0      2006-09-06 1975-12-18     Secondary      2000.0 1983-08-01   \n",
       "1      2008-01-02 1976-11-17  Professional      6000.0 1977-03-13   \n",
       "2      2011-01-02 1969-04-06   Preparatory      5000.0 1970-02-16   \n",
       "3      2011-01-02 1979-11-13     Secondary     12000.0 1981-05-13   \n",
       "4      2011-01-02 1982-09-20  Professional      6000.0 1988-01-30   \n",
       "...           ...        ...           ...         ...        ...   \n",
       "2204   2006-10-31 1969-11-27  Professional      6000.0 1975-09-01   \n",
       "2205   2006-10-31 1970-09-17  Professional      6000.0 1977-07-22   \n",
       "2206   2011-10-31 1976-03-11  Professional      8000.0 1978-12-28   \n",
       "2207   2012-10-31 1977-10-29  Professional     12500.0 1978-12-01   \n",
       "2208   2013-12-31 1960-06-22  Professional     20000.0 1972-01-22   \n",
       "\n",
       "     education_woman  income_woman marriage_date  marriage_duration  num_kids  \n",
       "0          Secondary        1800.0    2000-06-26                5.0       1.0  \n",
       "1       Professional        6000.0    2001-09-02                7.0       NaN  \n",
       "2       Professional        5000.0    2000-02-02                2.0       2.0  \n",
       "3          Secondary       12000.0    2006-05-13                2.0       NaN  \n",
       "4       Professional       10000.0    2007-08-06                3.0       NaN  \n",
       "...              ...           ...           ...                ...       ...  \n",
       "2204    Professional       14000.0    2002-03-08                4.0       NaN  \n",
       "2205    Professional        6000.0    2002-03-22                4.0       NaN  \n",
       "2206    Professional        7000.0    2009-02-10                2.0       NaN  \n",
       "2207    Professional        6000.0    2008-10-25                3.0       NaN  \n",
       "2208    Professional       20000.0    2009-08-22                4.0       NaN  \n",
       "\n",
       "[2209 rows x 10 columns]"
      ]
     },
     "execution_count": 39,
     "metadata": {},
     "output_type": "execute_result"
    }
   ],
   "source": [
    "# When a CSV file is imported into pandas, date and time data are typically interpreted as strings (You can examine that by `divorce.dtypes`)\n",
    "# We can fix that by passing the `parse_dates` arg and setting it equal to a list of column names that should be interpreted as DateTime data\n",
    "divorce = pd.read_csv(\"https://raw.githubusercontent.com/MohamedMostafa259/Pandas-Notes/refs/heads/main/Data/divorce.csv\", \\\n",
    "\t\t\t\t\t\tparse_dates=[\"divorce_date\", \"marriage_date\", \"dob_man\", \"dob_woman\"])\n",
    "divorce # divorce filings taking place in Mexico from 2000 until 2015\n",
    "\n",
    "# Of course, we may wish to update data types to DateTime data after we import the data. This is possible with `pd.to_datetime()`\n",
    "\t# e.g., divorce[\"marriage_date\"] = pd.to_datetime(divorce[\"marriage_date\"])\n",
    "# `pd.to_datetime()` has lots of other useful functionalities \n",
    "# For example, if a DataFrame has month, day, and year data stored in three different columns\n",
    "# we can combine these columns into a single DateTime value by passing them to `pd.to_datetime()`\n",
    "\t# e.g., divorce[\"marriage_date\"] = pd.to_datetime(divorce[[\"month\", \"day\", \"year\"]])\n",
    "\t# Note that for this trick to work, columns must be named \"month\", \"day\", and \"year\", but can appear in any order in the DataFrame"
   ]
  },
  {
   "cell_type": "markdown",
   "metadata": {},
   "source": [
    "### Pandas `Timestamp` object\n",
    "\n",
    "you can imagine the Pandas `Timestamp` object as a Python `Datetime` object with a different name. They behave basically exactly the same."
   ]
  },
  {
   "cell_type": "code",
   "execution_count": 40,
   "metadata": {},
   "outputs": [
    {
     "name": "stdout",
     "output_type": "stream",
     "text": [
      "<class 'pandas._libs.tslibs.timestamps.Timestamp'>\n"
     ]
    },
    {
     "data": {
      "text/plain": [
       "dtype('<M8[ns]')"
      ]
     },
     "execution_count": 40,
     "metadata": {},
     "output_type": "execute_result"
    }
   ],
   "source": [
    "print(type(divorce['divorce_date'].iloc[0]))\n",
    "divorce['divorce_date'].dtype\n",
    "\n",
    "# The `dtype` for the entire column is <M8[ns] (stands for \"datetime64 in nanosecond precision.\" = datetime64[ns]), \n",
    "# which is a NumPy data type representing datetime values with nanosecond precision. \n",
    "# This type is optimized for vectorized operations across the entire column, making it more efficient for processing large datasets."
   ]
  },
  {
   "cell_type": "markdown",
   "metadata": {},
   "source": [
    "### Extracting the Year, Month, and Day from the Date Column"
   ]
  },
  {
   "cell_type": "code",
   "execution_count": 41,
   "metadata": {},
   "outputs": [
    {
     "data": {
      "image/png": "[encoded data removed]",
      "text/plain": [
       "<Figure size 640x480 with 1 Axes>"
      ]
     },
     "metadata": {},
     "output_type": "display_data"
    },
    {
     "data": {
      "image/png": "[encoded data removed]",
      "text/plain": [
       "<Figure size 640x480 with 1 Axes>"
      ]
     },
     "metadata": {},
     "output_type": "display_data"
    }
   ],
   "source": [
    "divorce[\"marriage_year\"] = divorce[\"marriage_date\"].dt.year\n",
    "sns.lineplot(data=divorce, x=\"marriage_year\", y=\"marriage_duration\")\n",
    "plt.show()\n",
    "\n",
    "sns.lineplot(data=divorce, x=\"marriage_year\", y=\"num_kids\")\n",
    "plt.show()"
   ]
  },
  {
   "cell_type": "markdown",
   "metadata": {},
   "source": [
    "## `date`, `timedelta`, `datetime` objects"
   ]
  },
  {
   "cell_type": "code",
   "execution_count": 42,
   "metadata": {},
   "outputs": [
    {
     "data": {
      "text/plain": [
       "datetime.timedelta(days=7494)"
      ]
     },
     "execution_count": 42,
     "metadata": {},
     "output_type": "execute_result"
    }
   ],
   "source": [
    "from datetime import date, timedelta, datetime, timezone\n",
    "\n",
    "# args → (year, month, day)\n",
    "birth_date = date(2004, 6, 25)\n",
    "today = date.today()\n",
    "\n",
    "\"\"\" Note:\n",
    "be careful using this technique (calculating number of days between two dates) for historical dates hundreds or thousands of years in the past. \n",
    "Our calendar systems have changed over time, and not every date from then would be the same day and month today.\n",
    "\n",
    "Explanation → Over the centuries, different cultures and countries have used different calendar systems. \n",
    "For example, before the widespread adoption of the Gregorian calendar (which is the calendar system most of the world uses today), \n",
    "many regions used the Julian calendar. The Julian calendar, introduced by Julius Caesar in 45 BCE, \n",
    "has a different method for calculating leap years compared to the Gregorian calendar, which was introduced in 1582. \n",
    "As a result, the same date in the Julian calendar may correspond to a different date in the Gregorian calendar.\n",
    "\"\"\"\n",
    "age = today - birth_date # subtracting `date`s returns a 'timedelta' object that represents the elapsed time between events\n",
    "age"
   ]
  },
  {
   "cell_type": "code",
   "execution_count": 43,
   "metadata": {},
   "outputs": [
    {
     "name": "stdout",
     "output_type": "stream",
     "text": [
      "2024-12-31\n"
     ]
    }
   ],
   "source": [
    "td = timedelta(days=age.days) # 'td' is the same as 'age'\n",
    "print(birth_date + td) # prints today's date\n",
    "assert today == (birth_date + td) "
   ]
  },
  {
   "cell_type": "markdown",
   "metadata": {},
   "source": [
    "## Turning `date`s into strings\n",
    "\n",
    "**Why turning into `string`?**\n",
    "\n",
    "-\tprinting results\n",
    "\n",
    "-\tputting dates into filenames\n",
    "\n",
    "-\twriting dates out to CSV or Excel files\n",
    "\n",
    "### ISO 8601 Format (YYYY-mm-dd)\n",
    "\n",
    "**Pros:**\n",
    "\n",
    "-\tAll generated dates in this format have the same length (10 chars)\n",
    "\n",
    "-\tThis format is sorting-friendly as the years are compared first, followed by months, and days\n",
    "\n",
    "→ Converting a date to the ISO representation as a string: `date.isoformat()`\n",
    "\n",
    "### Every Other Format\n",
    "\n",
    "If you don't want to put dates in ISO 8601 format, Python has a flexible set of options for representing dates in other ways, using the `strftime(\"format string\")` method."
   ]
  },
  {
   "cell_type": "code",
   "execution_count": 44,
   "metadata": {},
   "outputs": [
    {
     "name": "stdout",
     "output_type": "stream",
     "text": [
      "2004-06-25\n"
     ]
    },
    {
     "data": {
      "text/plain": [
       "'2004-06-25'"
      ]
     },
     "execution_count": 44,
     "metadata": {},
     "output_type": "execute_result"
    }
   ],
   "source": [
    "print(birth_date) # prints date in the ISO format (YYYY-MM-DD). This default format is also known as ISO 8601 format\n",
    "\n",
    "# convert a date to the ISO representation as a string\n",
    "birth_date.isoformat()"
   ]
  },
  {
   "cell_type": "code",
   "execution_count": 45,
   "metadata": {},
   "outputs": [
    {
     "data": {
      "text/plain": [
       "['1999-12-31', '2000-01-01']"
      ]
     },
     "execution_count": 45,
     "metadata": {},
     "output_type": "execute_result"
    }
   ],
   "source": [
    "# you can use `sorted()` to sort a list of dates \n",
    "sorted(['2000-01-01', '1999-12-31'])"
   ]
  },
  {
   "cell_type": "code",
   "execution_count": 46,
   "metadata": {},
   "outputs": [
    {
     "name": "stdout",
     "output_type": "stream",
     "text": [
      "2004\n",
      "Year is 2004\n",
      "06/25/2004\n",
      "Fri Jun 25 00:00:00 2004\n"
     ]
    }
   ],
   "source": [
    "# strftime → string format time\n",
    "print(birth_date.strftime(\"%Y\"))\n",
    "print(birth_date.strftime(\"Year is %Y\"))\n",
    "\n",
    "# US Format: mm/dd/YYYY\n",
    "print(birth_date.strftime(\"%m/%d/%Y\"))\n",
    "\n",
    "print(birth_date.strftime(\"%c\"))\n",
    "\n",
    "# → Date Formats: https://www.geeksforgeeks.org/how-to-format-date-using-strftime-in-python/"
   ]
  },
  {
   "cell_type": "markdown",
   "metadata": {},
   "source": [
    "### Combining Dates and Times → `datetime` objects"
   ]
  },
  {
   "cell_type": "code",
   "execution_count": 47,
   "metadata": {},
   "outputs": [
    {
     "name": "stdout",
     "output_type": "stream",
     "text": [
      "2017-10-01 15:23:25.500000\n",
      "2017-10-01T15:23:25.500000\n"
     ]
    }
   ],
   "source": [
    "# Computers generally use 24 hour time, meaning that 3 PM is represented as hour 15 of 24\n",
    "# args: year, month, day, hour, minute, second, microsecond → All of these arguments need to be integers;\n",
    "# if you want to represent 0.5 seconds, you can pass 500,000 to the `microsecond` arg\n",
    "dt = datetime(2017, 10, 1, 15, 23, 25, 500000) # October 1st, 2017 at 3:23:25.5 PM\n",
    "print(dt) # = print(dt.strftime(\"%Y-%m-%d %H:%M:%S\"))\n",
    "\n",
    "# ISO format for `datetime` objects\n",
    "print(dt.isoformat())"
   ]
  },
  {
   "cell_type": "markdown",
   "metadata": {},
   "source": [
    "### Replacing Parts of a `datetime`"
   ]
  },
  {
   "cell_type": "code",
   "execution_count": 48,
   "metadata": {},
   "outputs": [
    {
     "name": "stdout",
     "output_type": "stream",
     "text": [
      "2017-10-01 15:00:00\n"
     ]
    }
   ],
   "source": [
    "print(dt.replace(minute=0, second=0, microsecond=0))"
   ]
  },
  {
   "cell_type": "markdown",
   "metadata": {},
   "source": [
    "### Parsing string `datetime`s with `strptime()`"
   ]
  },
  {
   "cell_type": "code",
   "execution_count": 49,
   "metadata": {},
   "outputs": [
    {
     "name": "stdout",
     "output_type": "stream",
     "text": [
      "2017-12-30 15:19:13\n"
     ]
    }
   ],
   "source": [
    "# strptime() → string parse time\n",
    "# takes two arguments: the first one is a string to turn into a datetime, and the second one is a format string that says how to do it.\n",
    "dt = datetime.strptime(\"12/30/2017 15:19:13\",\n",
    "\t\t\t\t\t   \"%m/%d/%Y %H:%M:%S\")\n",
    "print(dt) # parsing worked correctly\n",
    "\n",
    "# Unfortunately, Python does not have the ability to parse non-zero-padded dates \n",
    "# (i.e., dates where single-digit months or days are not prefixed by a 0, such as 1/2/2018). \n",
    "# If needed, you can use other string methods to create zero-padded strings suitable for `strptime()`."
   ]
  },
  {
   "cell_type": "markdown",
   "metadata": {},
   "source": [
    "### The Unix timestamp\n",
    "\n",
    "Many computers store datetime information behind the scenes as **the number of seconds since January 1st, 1970**. This date is largely considered the birth of modern-style computers.\n",
    "\n",
    "<br>\n",
    "\n",
    "**Potential issue for computer systems that represent time as a signed 32-bit integer:** (Year 2038 problem)\n",
    "\n",
    "The largest number that some older computers can hold in one variable is **2147483647** (INT_MAX-1 in C++), which as a Unix timestamp is in January 2038. On that day, many computers which haven't been upgraded will fail. Hopefully, none of them are running anything critical!\n",
    "\n",
    "-\tThe timestamp 2,147,483,647 corresponds to January 19, 2038, at 03:14:07 UTC.\n",
    "\n",
    "-\tAfter this time, if the timestamp increases by one more second, it will overflow and become -2,147,483,648, which corresponds to December 13, 1901, 20:45:52 UTC (UTC stands for Coordinated Universal Time. It is the primary time standard by which the world regulates clocks and time).\n",
    "\n",
    "-\tThis overflow would cause the system to interpret the date incorrectly, leading to potential failures in software that relies on accurate timekeeping."
   ]
  },
  {
   "cell_type": "code",
   "execution_count": 50,
   "metadata": {},
   "outputs": [
    {
     "name": "stdout",
     "output_type": "stream",
     "text": [
      "1088110800.0\n",
      "2004-06-25 00:00:00\n"
     ]
    }
   ],
   "source": [
    "# A float number represents a timestamp\n",
    "ts = datetime.timestamp(datetime(2004, 6, 25))\n",
    "print(ts)\n",
    "\n",
    "# convert to `datetime` and print\n",
    "print(datetime.fromtimestamp(ts))\n",
    "\n",
    "# check: convert the timestamp to years\n",
    "assert int(ts/60/60/24/365.25) == (2004 - 1970)"
   ]
  },
  {
   "cell_type": "markdown",
   "metadata": {},
   "source": [
    "### Arithmetic operations with `datetime`s\n",
    "\n",
    "Remember that `timedelta` objects are represented in Python as a number of days and seconds of elapsed time. **Be careful not to use `.seconds` attribute on a `timedelta` object** (unless you're sure), since you'll just get the number of seconds without the days! **Instead, use the `.total_seconds()` method**."
   ]
  },
  {
   "cell_type": "code",
   "execution_count": 51,
   "metadata": {},
   "outputs": [
    {
     "name": "stdout",
     "output_type": "stream",
     "text": [
      "2004-06-26 00:00:05\n"
     ]
    }
   ],
   "source": [
    "birth_date = datetime(2004, 6, 25)\n",
    "delta1 = timedelta(days=1, seconds=5)\n",
    "delta2 = timedelta(days=-1, seconds=-5) # can take -ve values\n",
    "\n",
    "print(birth_date + delta1)\n",
    "\n",
    "assert (birth_date - delta1) == (birth_date + delta2)"
   ]
  },
  {
   "cell_type": "code",
   "execution_count": 52,
   "metadata": {},
   "outputs": [
    {
     "name": "stdout",
     "output_type": "stream",
     "text": [
      "5\n",
      "86405.0\n"
     ]
    },
    {
     "data": {
      "text/plain": [
       "1.0000578703703702"
      ]
     },
     "execution_count": 52,
     "metadata": {},
     "output_type": "execute_result"
    }
   ],
   "source": [
    "print(delta1.seconds)\n",
    "print(delta1.total_seconds())\n",
    "delta1.total_seconds()/60/60/24"
   ]
  },
  {
   "cell_type": "markdown",
   "metadata": {},
   "source": [
    "## UTC offsets\n",
    "\n",
    "Sometimes, you really need to know exactly when something happened. Up until now, the datetime objects we have worked with are what is called \"naive\", and can't be compared across different parts of the world. They don't know anything about their time zone.\n",
    "\n",
    "### Time Zones\n",
    "\n",
    "Why does this matter? Before time zones, each town or city set its clock so that noon was directly overhead. But, this meant that these two cities had clocks that were different. \n",
    "\n",
    "So, how do we know how to set the clock? Because the United Kingdom was the first to standardize its time, everyone in the world sets their clocks relative to the original historical UK standard. This standard time is called **UTC**. Because all clocks are set relative to UTC, we can compare time around the world. Generally, **clocks west of the UK are set earlier than UTC** (UTC - x), and **clocks east of the UK are set later than UTC** (UTC + x). For example, the eastern United States is typically \"UTC - 5 hours\", while India is typically \"UTC + 5 hours 30 minutes\".\n",
    "\n",
    "The `timezone` class from the `datetime` package lets you specify what timezone the clock was in when our data was recorded.\n",
    "\n",
    "---\n",
    "\n",
    "معلومات إسرائيلية:\n",
    "\n",
    "Did you know that there is no official time zone at the North or South pole? Since all the lines of longitude meet each other, it's up to each traveler (or research station) to decide what time they want to use."
   ]
  },
  {
   "cell_type": "code",
   "execution_count": 53,
   "metadata": {},
   "outputs": [
    {
     "name": "stdout",
     "output_type": "stream",
     "text": [
      "2017-12-30 15:09:03-05:00\n"
     ]
    },
    {
     "data": {
      "text/plain": [
       "datetime.datetime(2017, 12, 30, 15, 9, 3, tzinfo=datetime.timezone(datetime.timedelta(days=-1, seconds=68400)))"
      ]
     },
     "execution_count": 53,
     "metadata": {},
     "output_type": "execute_result"
    }
   ],
   "source": [
    "# create a timezone object, which accepts a timedelta that explains how to translate your datetime into \"UTC\"\n",
    "# US Eastern Standard time zone\n",
    "ET = timezone(timedelta(hours=-5))\n",
    "\n",
    "# Timezone-aware datetime\n",
    "dt = datetime(2017, 12, 30, 15, 9, 3, tzinfo=ET)\n",
    "print(dt)\n",
    "dt"
   ]
  },
  {
   "cell_type": "markdown",
   "metadata": {},
   "source": [
    "### Adjusting Timezone (same moment, different clock)"
   ]
  },
  {
   "cell_type": "code",
   "execution_count": 54,
   "metadata": {},
   "outputs": [
    {
     "name": "stdout",
     "output_type": "stream",
     "text": [
      "2017-12-31 01:39:03+05:30\n"
     ]
    }
   ],
   "source": [
    "# suppose you want to know what the date and time would have been if the clock had been set to India Standard Time instead.\n",
    "\n",
    "# India Standard time zone\n",
    "IST = timezone(timedelta(hours=5, minutes=30))\n",
    "\n",
    "# create a new datetime object corresponding to the same moment in ET, but adjusted to a different time zone IST.\n",
    "print(dt.astimezone(IST)) "
   ]
  },
  {
   "cell_type": "markdown",
   "metadata": {},
   "source": [
    "### Changing `tzinfo` (different moment, same clock)"
   ]
  },
  {
   "cell_type": "code",
   "execution_count": 55,
   "metadata": {},
   "outputs": [
    {
     "name": "stdout",
     "output_type": "stream",
     "text": [
      "2017-12-30 15:09:03+00:00\n"
     ]
    }
   ],
   "source": [
    "print(dt.replace(tzinfo=timezone.utc))"
   ]
  },
  {
   "cell_type": "markdown",
   "metadata": {},
   "source": [
    "## Time Zone Database\n",
    "\n",
    "How could we know the timezone for each area in the world?\n",
    "\n",
    "Thankfully, there is a database called `tz`, updated 3-4 times a year as timezone rules change. This database is used by computer programs across many programming languages. Because timezone information changes so quickly, it doesn't make sense to bundle it directly into Python. Instead, we will use a package called `dateutil` (stands for **Date Util**ity).\n",
    "\n",
    "Within `tz`, time zones are defined first by the **continent** they are on, and then by the **nearest major city**.\n",
    "\n",
    "**tz database:**\n",
    "\n",
    "-\tFormat: 'Continent/City' \n",
    "\n",
    "\t-\t'America/New York'\n",
    "\t\n",
    "\t-\t'America/Mexico_City'\n",
    "\t\n",
    "\t-\t'Europe/London'\n",
    "\t\n",
    "\t-\t'Africa/Accra'"
   ]
  },
  {
   "cell_type": "code",
   "execution_count": 56,
   "metadata": {},
   "outputs": [
    {
     "data": {
      "text/plain": [
       "tzfile('US/Eastern')"
      ]
     },
     "execution_count": 56,
     "metadata": {},
     "output_type": "execute_result"
    }
   ],
   "source": [
    "from dateutil import tz\n",
    "\n",
    "# create a `timezone` object corresponds to Eastern US Standard time zone\n",
    "ET = tz.gettz('America/New_York')\n",
    "ET"
   ]
  },
  {
   "cell_type": "code",
   "execution_count": 57,
   "metadata": {},
   "outputs": [
    {
     "name": "stdout",
     "output_type": "stream",
     "text": [
      "2017-12-30 15:09:03-05:00\n"
     ]
    }
   ],
   "source": [
    "# Instead of specifying the UTC offset yourself, you pass the timezone you got from `tz`\n",
    "dt = datetime(2017, 12, 30, 15, 9, 3, tzinfo=ET)\n",
    "print(dt)"
   ]
  },
  {
   "cell_type": "code",
   "execution_count": 58,
   "metadata": {},
   "outputs": [
    {
     "name": "stdout",
     "output_type": "stream",
     "text": [
      "2017-10-01 15:23:25-04:00\n"
     ]
    }
   ],
   "source": [
    "# Even more excitingly, this same object will adjust the UTC offset depending on the date and time. \n",
    "dt = datetime(2017, 10, 1, 15, 23, 25, tzinfo=ET)\n",
    "print(dt) # different UTC offset! (due to daylight savings time (summer time) → in some places the clocks change twice a year)\n",
    "\n",
    "# `tz` includes rules for UTC offsets going all the way back to the late 1960s, and sometimes earlier."
   ]
  },
  {
   "cell_type": "markdown",
   "metadata": {},
   "source": [
    "## Daylight Saving Time (DST)\n",
    "\n",
    "### Starting daylight saving time (springing forward)\n",
    "\n",
    "![image-3.png](attachment:image-3.png)\n",
    "\n",
    "<br>\n",
    "\n",
    "---\n",
    "\n",
    "<br>\n",
    "\n",
    "### Ending daylight saving time (falling back)\n",
    "\n",
    "![image-2.png](attachment:image-2.png)\n",
    "\n",
    "<br>\n",
    "\n",
    "**Note:** The times between 1:00 AM and 1:59:59 AM happen **twice** this day because of the ending of DST. We call such times as **ambiguous times** in python; we can explore whether a time is ambiguous through the `tz.datetime_ambiguous(datetime_object)` method."
   ]
  },
  {
   "cell_type": "code",
   "execution_count": 59,
   "metadata": {},
   "outputs": [
    {
     "name": "stdout",
     "output_type": "stream",
     "text": [
      "2017-03-12 01:59:59\n",
      "2017-03-12 03:00:00\n"
     ]
    },
    {
     "data": {
      "text/plain": [
       "3601.0"
      ]
     },
     "execution_count": 59,
     "metadata": {},
     "output_type": "execute_result"
    }
   ],
   "source": [
    "spring_ahead_159am = datetime(2017, 3, 12, 1, 59, 59)\n",
    "print(spring_ahead_159am)\n",
    "\n",
    "spring_ahead_3am = datetime(2017, 3, 12, 3, 0, 0)\n",
    "print(spring_ahead_3am)\n",
    "\n",
    "(spring_ahead_3am - spring_ahead_159am).total_seconds() # As expected, they're an hour and one second apart \n",
    "\t\t\t\t\t\t\t\t\t\t\t\t\t\t# (But, this is false; only one second has elapsed)"
   ]
  },
  {
   "cell_type": "code",
   "execution_count": 60,
   "metadata": {},
   "outputs": [
    {
     "name": "stdout",
     "output_type": "stream",
     "text": [
      "2017-03-12 01:59:59-05:00\n",
      "2017-03-12 03:00:00-04:00\n"
     ]
    },
    {
     "data": {
      "text/plain": [
       "1.0"
      ]
     },
     "execution_count": 60,
     "metadata": {},
     "output_type": "execute_result"
    }
   ],
   "source": [
    "EST = timezone(timedelta(hours=-5)) # Eastern US Standard Time\n",
    "EDT = timezone(timedelta(hours=-4)) # Eastern US Daylight Time\n",
    "\n",
    "spring_ahead_159am = spring_ahead_159am.replace(tzinfo=EST)\n",
    "print(spring_ahead_159am)\n",
    "\n",
    "spring_ahead_3am = spring_ahead_3am.replace(tzinfo=EDT)\n",
    "print(spring_ahead_3am)\n",
    "\n",
    "(spring_ahead_3am - spring_ahead_159am).total_seconds() # correctly, outputs that one second has elapsed\n",
    "\n",
    "# Putting things in terms of UTC once again allowed us to make proper comparisons."
   ]
  },
  {
   "cell_type": "code",
   "execution_count": 61,
   "metadata": {},
   "outputs": [
    {
     "name": "stdout",
     "output_type": "stream",
     "text": [
      "2017-03-12 01:59:59-05:00\n",
      "2017-03-12 03:00:00-04:00\n",
      "3601.0\n"
     ]
    },
    {
     "data": {
      "text/plain": [
       "1.0"
      ]
     },
     "execution_count": 61,
     "metadata": {},
     "output_type": "execute_result"
    }
   ],
   "source": [
    "# Just like before when `dateutil` saved us from having to define timezones by hand, it saves us from having to know daylight savings.\n",
    "eastern = tz.gettz('America/New_York')\n",
    "\n",
    "spring_ahead_159am = datetime(2017, 3, 12, 1, 59, 59, tzinfo=eastern)\n",
    "print(spring_ahead_159am)\n",
    "\n",
    "spring_ahead_3am = datetime(2017, 3, 12, 3, 0, 0, tzinfo=eastern)\n",
    "print(spring_ahead_3am)\n",
    "\n",
    "print((spring_ahead_3am - spring_ahead_159am).total_seconds()) \n",
    "# outputs \"3601.0\", not \"1.0\" because when we compare times in local time zones, \n",
    "\t# everything gets converted into clock time (w/o regarding the differences in the UTC offsets)\n",
    "# Remember if you want to get absolute time differences, always move to UTC! ↓↓\n",
    "\n",
    "(spring_ahead_3am.astimezone(timezone.utc) - spring_ahead_159am.astimezone(timezone.utc)).total_seconds() \n",
    "\n",
    "# NOTE: In general, whenever we really want to be sure of the duration between events that might cross a daylight saving boundary, \n",
    "# NOTE: we need to do our math in UTC."
   ]
  },
  {
   "cell_type": "code",
   "execution_count": 62,
   "metadata": {},
   "outputs": [
    {
     "name": "stdout",
     "output_type": "stream",
     "text": [
      "True\n"
     ]
    }
   ],
   "source": [
    "first_1am = datetime(2023, 11, 5, 1, 0, 0, tzinfo=eastern)\n",
    "\n",
    "# Check if the datetime is ambiguous (could happen twice in its day)\n",
    "print(tz.datetime_ambiguous(first_1am))  # Outputs: True \n",
    "# Explanation:\n",
    "# October 5th is the end of the summer time in eastern US. They return back to the standard time at 2:00 AM. \n",
    "# In this day, after the clock is at 1:59:59 AM, it returns back to be at 1:00 AM again. \n",
    "# So, all times between 1:00 AM and 1:59:59 AM happen twice this day because the end of DST. We call such times as ambiguous times in python."
   ]
  },
  {
   "cell_type": "code",
   "execution_count": 63,
   "metadata": {},
   "outputs": [
    {
     "data": {
      "text/plain": [
       "datetime.datetime(2023, 11, 5, 1, 0, fold=1, tzinfo=tzfile('US/Eastern'))"
      ]
     },
     "execution_count": 63,
     "metadata": {},
     "output_type": "execute_result"
    }
   ],
   "source": [
    "# But, how can python know whether it's the 1st time or 2nd time that this ambiguous time occur?\n",
    "# We can use the tz.enfold(datetime_object) method with the second time this ambiguous time happens to solve this issue \n",
    "# OR: we can set the `fold` argument to `1` in the `datetime` constructor\n",
    "second_1am = datetime(2023, 11, 5, 1, 0, 0, tzinfo=eastern)\n",
    "second_1am = tz.enfold(second_1am)\n",
    "second_1am"
   ]
  },
  {
   "cell_type": "code",
   "execution_count": 64,
   "metadata": {},
   "outputs": [
    {
     "name": "stdout",
     "output_type": "stream",
     "text": [
      "2023-11-05 01:00:00-04:00\n",
      "2023-11-05 01:00:00-05:00\n",
      "0.0\n",
      "3600.0\n"
     ]
    }
   ],
   "source": [
    "print(first_1am)\n",
    "print(second_1am) # Without using `tz.enfold()`, this would outputs \"2023-11-05 01:00:00-04:00\" (however, it should be with -5 UTC offset)\n",
    "\n",
    "# However, Python doesn't take it into account when doing datetime arithmetic. Fold is just a placeholder! ↓↓\n",
    "print((second_1am - first_1am).total_seconds()) # outputs \"0.0\" while they are an hour apart! \n",
    "\n",
    "# What are we going to do?! We need to convert to UTC, which is unambiguous. \n",
    "# When we really want to make sure that everything is accounted for, putting everything into UTC is the way to do it. ↓↓\n",
    "print((second_1am.astimezone(tz.UTC) - first_1am.astimezone(tz.UTC)).total_seconds())\n",
    "\n",
    "# NOTE: In general, whenever we really want to be sure of the duration between events that might cross a daylight saving boundary, \n",
    "# NOTE: we need to do our math in UTC."
   ]
  },
  {
   "cell_type": "markdown",
   "metadata": {},
   "source": [
    "## Dates and Times in Pandas\n",
    "\n",
    "### Summarizing (Grouping by time)\n",
    "\n",
    "The `df.resample(unitTime, datetimeColumnToGroupOn)` function in Pandas is used to resample time-series data (group data by time). \n",
    "\n",
    "This is particularly useful when working with time-series data where you want to change the frequency of the data, such as converting hourly data to daily data, or summing monthly data into yearly data.\n",
    "\n",
    "### How `df.resample()` Works\n",
    "\n",
    "1. **Frequency Conversion**: It takes a unit time to specify a new time frequency using a string alias like **'H'**: Hourly, **'D'**: Daily, **'W'**: Weekly, **'M'**: Monthly, **'Q'**: Quarterly, and **'A'**: Annually.\n",
    "\n",
    "2. **`on` argument:** Takes a string for the column you want to group on.\n",
    "\n",
    "3. **Aggregation Functions**: After resampling, we can apply various aggregation functions like `sum()`, `mean()`, `count()`, etc., to the resampled data."
   ]
  },
  {
   "cell_type": "code",
   "execution_count": 65,
   "metadata": {},
   "outputs": [
    {
     "data": {
      "text/html": [
       "<div>\n",
       "<style scoped>\n",
       "    .dataframe tbody tr th:only-of-type {\n",
       "        vertical-align: middle;\n",
       "    }\n",
       "\n",
       "    .dataframe tbody tr th {\n",
       "        vertical-align: top;\n",
       "    }\n",
       "\n",
       "    .dataframe thead th {\n",
       "        text-align: right;\n",
       "    }\n",
       "</style>\n",
       "<table border=\"1\" class=\"dataframe\">\n",
       "  <thead>\n",
       "    <tr style=\"text-align: right;\">\n",
       "      <th></th>\n",
       "      <th>Start date</th>\n",
       "      <th>End date</th>\n",
       "      <th>Start station number</th>\n",
       "      <th>Start station</th>\n",
       "      <th>End station number</th>\n",
       "      <th>End station</th>\n",
       "      <th>Bike number</th>\n",
       "      <th>Member type</th>\n",
       "      <th>Duration</th>\n",
       "      <th>Duration seconds</th>\n",
       "    </tr>\n",
       "  </thead>\n",
       "  <tbody>\n",
       "    <tr>\n",
       "      <th>0</th>\n",
       "      <td>2017-10-01 15:23:25</td>\n",
       "      <td>2017-10-01 15:26:26</td>\n",
       "      <td>31038</td>\n",
       "      <td>Glebe Rd &amp; 11th St N</td>\n",
       "      <td>31036</td>\n",
       "      <td>George Mason Dr &amp; Wilson Blvd</td>\n",
       "      <td>W20529</td>\n",
       "      <td>Member</td>\n",
       "      <td>0 days 00:03:01</td>\n",
       "      <td>181.0</td>\n",
       "    </tr>\n",
       "    <tr>\n",
       "      <th>1</th>\n",
       "      <td>2017-10-01 15:42:57</td>\n",
       "      <td>2017-10-01 17:49:59</td>\n",
       "      <td>31036</td>\n",
       "      <td>George Mason Dr &amp; Wilson Blvd</td>\n",
       "      <td>31036</td>\n",
       "      <td>George Mason Dr &amp; Wilson Blvd</td>\n",
       "      <td>W20529</td>\n",
       "      <td>Casual</td>\n",
       "      <td>0 days 02:07:02</td>\n",
       "      <td>7622.0</td>\n",
       "    </tr>\n",
       "    <tr>\n",
       "      <th>2</th>\n",
       "      <td>2017-10-02 06:37:10</td>\n",
       "      <td>2017-10-02 06:42:53</td>\n",
       "      <td>31036</td>\n",
       "      <td>George Mason Dr &amp; Wilson Blvd</td>\n",
       "      <td>31037</td>\n",
       "      <td>Ballston Metro / N Stuart &amp; 9th St N</td>\n",
       "      <td>W20529</td>\n",
       "      <td>Member</td>\n",
       "      <td>0 days 00:05:43</td>\n",
       "      <td>343.0</td>\n",
       "    </tr>\n",
       "    <tr>\n",
       "      <th>3</th>\n",
       "      <td>2017-10-02 08:56:45</td>\n",
       "      <td>2017-10-02 09:18:03</td>\n",
       "      <td>31037</td>\n",
       "      <td>Ballston Metro / N Stuart &amp; 9th St N</td>\n",
       "      <td>31295</td>\n",
       "      <td>Potomac &amp; M St NW</td>\n",
       "      <td>W20529</td>\n",
       "      <td>Member</td>\n",
       "      <td>0 days 00:21:18</td>\n",
       "      <td>1278.0</td>\n",
       "    </tr>\n",
       "    <tr>\n",
       "      <th>4</th>\n",
       "      <td>2017-10-02 18:23:48</td>\n",
       "      <td>2017-10-02 18:45:05</td>\n",
       "      <td>31295</td>\n",
       "      <td>Potomac &amp; M St NW</td>\n",
       "      <td>31230</td>\n",
       "      <td>Metro Center / 12th &amp; G St NW</td>\n",
       "      <td>W20529</td>\n",
       "      <td>Member</td>\n",
       "      <td>0 days 00:21:17</td>\n",
       "      <td>1277.0</td>\n",
       "    </tr>\n",
       "  </tbody>\n",
       "</table>\n",
       "</div>"
      ],
      "text/plain": [
       "           Start date            End date  Start station number  \\\n",
       "0 2017-10-01 15:23:25 2017-10-01 15:26:26                 31038   \n",
       "1 2017-10-01 15:42:57 2017-10-01 17:49:59                 31036   \n",
       "2 2017-10-02 06:37:10 2017-10-02 06:42:53                 31036   \n",
       "3 2017-10-02 08:56:45 2017-10-02 09:18:03                 31037   \n",
       "4 2017-10-02 18:23:48 2017-10-02 18:45:05                 31295   \n",
       "\n",
       "                          Start station  End station number  \\\n",
       "0                  Glebe Rd & 11th St N               31036   \n",
       "1         George Mason Dr & Wilson Blvd               31036   \n",
       "2         George Mason Dr & Wilson Blvd               31037   \n",
       "3  Ballston Metro / N Stuart & 9th St N               31295   \n",
       "4                     Potomac & M St NW               31230   \n",
       "\n",
       "                            End station Bike number Member type  \\\n",
       "0         George Mason Dr & Wilson Blvd      W20529      Member   \n",
       "1         George Mason Dr & Wilson Blvd      W20529      Casual   \n",
       "2  Ballston Metro / N Stuart & 9th St N      W20529      Member   \n",
       "3                     Potomac & M St NW      W20529      Member   \n",
       "4         Metro Center / 12th & G St NW      W20529      Member   \n",
       "\n",
       "         Duration  Duration seconds  \n",
       "0 0 days 00:03:01             181.0  \n",
       "1 0 days 02:07:02            7622.0  \n",
       "2 0 days 00:05:43             343.0  \n",
       "3 0 days 00:21:18            1278.0  \n",
       "4 0 days 00:21:17            1277.0  "
      ]
     },
     "execution_count": 65,
     "metadata": {},
     "output_type": "execute_result"
    }
   ],
   "source": [
    "rides = pd.read_csv(\"https://raw.githubusercontent.com/MohamedMostafa259/Pandas-Notes/refs/heads/main/Data/capital-onebike.csv\",\\\n",
    "\t\t\t\t\tparse_dates=['Start date', 'End date'])\n",
    "rides['Duration'] = rides['End date'] - rides['Start date']\n",
    "rides['Duration seconds'] = rides['Duration'].dt.total_seconds() # use `.dt` while dealing with Pandas to access `datetime` functions\n",
    "rides.head()"
   ]
  },
  {
   "cell_type": "code",
   "execution_count": 66,
   "metadata": {},
   "outputs": [
    {
     "name": "stderr",
     "output_type": "stream",
     "text": [
      "C:\\Users\\moham\\AppData\\Local\\Temp\\ipykernel_14964\\286820900.py:1: FutureWarning: 'M' is deprecated and will be removed in a future version, please use 'ME' instead.\n",
      "  print(rides.resample('M', on='Start date')['Duration seconds'].mean())\n"
     ]
    },
    {
     "name": "stdout",
     "output_type": "stream",
     "text": [
      "Start date\n",
      "2017-10-31    1886.453704\n",
      "2017-11-30     854.174757\n",
      "2017-12-31     635.101266\n",
      "Freq: ME, Name: Duration seconds, dtype: float64\n"
     ]
    },
    {
     "data": {
      "image/png": "[encoded data removed]",
      "text/plain": [
       "<Figure size 640x480 with 1 Axes>"
      ]
     },
     "metadata": {},
     "output_type": "display_data"
    }
   ],
   "source": [
    "print(rides.resample('M', on='Start date')['Duration seconds'].mean())\n",
    "rides.resample('D', on='Start date')['Duration seconds'].mean().plot() # plots a line plot by default \n",
    "plt.show()\n",
    "# Plot Observations and Interpretation:\n",
    "# we can see that there is at least one big outlier skewing our data: some ride in the middle of October was 25000 seconds long, \n",
    "# or nearly 7 hours. It may a bike repair. We can see that it happened after many days with zero rides, which lends strength to that idea. \n",
    "# If the bike was broken and sitting in the dock for awhile, eventually it would have been removed for repairs, then returned."
   ]
  },
  {
   "cell_type": "code",
   "execution_count": 67,
   "metadata": {},
   "outputs": [
    {
     "name": "stderr",
     "output_type": "stream",
     "text": [
      "C:\\Users\\moham\\AppData\\Local\\Temp\\ipykernel_14964\\4113684457.py:2: FutureWarning: 'M' is deprecated and will be removed in a future version, please use 'ME' instead.\n",
      "  rides.groupby('Member type').resample('M', on='Start date')['Duration'].median()\n"
     ]
    },
    {
     "data": {
      "text/plain": [
       "Member type  Start date\n",
       "Casual       2017-10-31          0 days 00:27:16\n",
       "             2017-11-30   0 days 00:19:19.500000\n",
       "             2017-12-31          0 days 00:14:10\n",
       "Member       2017-10-31          0 days 00:11:11\n",
       "             2017-11-30          0 days 00:10:55\n",
       "             2017-12-31   0 days 00:06:27.500000\n",
       "Name: Duration, dtype: timedelta64[ns]"
      ]
     },
     "execution_count": 67,
     "metadata": {},
     "output_type": "execute_result"
    }
   ],
   "source": [
    "# `.resample()` can be called after `.groupby()`. For example, how long was the median ride by month, and by Membership type?\n",
    "rides.groupby('Member type').resample('M', on='Start date')['Duration'].median()\n",
    "\n",
    "# Output Interpretation:\n",
    "# It looks like casual riders consistently took longer rides, but that both groups took shorter rides as the months went by. \n",
    "\n",
    "# NOTE: by combining grouping and resampling, we can answer a lot of questions about nearly any dataset that includes time as a feature. \n",
    "# Keep in mind that you can also group by more than one column at once."
   ]
  },
  {
   "cell_type": "markdown",
   "metadata": {},
   "source": [
    "### Timezones in Pandas"
   ]
  },
  {
   "cell_type": "code",
   "execution_count": 68,
   "metadata": {},
   "outputs": [
    {
     "data": {
      "text/plain": [
       "-3346.0"
      ]
     },
     "execution_count": 68,
     "metadata": {},
     "output_type": "execute_result"
    }
   ],
   "source": [
    "rides['Duration seconds'].min() # Yikes! Something is wrong, since our ride durations shouldn't ever be negative.\n",
    "# datetime objects in this dataset are timezone-naive. They're not tied to any absolute time with a UTC offset."
   ]
  },
  {
   "cell_type": "code",
   "execution_count": 69,
   "metadata": {},
   "outputs": [],
   "source": [
    "import tzdata\n",
    "# Timezone-aware operations like `tz_localize` and `tz_convert` rely on timezone databases, \n",
    "# so installing tzdata ensures that Pandas can access the necessary information."
   ]
  },
  {
   "cell_type": "code",
   "execution_count": 70,
   "metadata": {},
   "outputs": [
    {
     "name": "stdout",
     "output_type": "stream",
     "text": [
      "0   2017-10-01 15:23:25\n",
      "1   2017-10-01 15:42:57\n",
      "2   2017-10-02 06:37:10\n",
      "Name: Start date, dtype: datetime64[ns] \n",
      "\n",
      "0   2017-10-01 15:23:25+01:00\n",
      "1   2017-10-01 15:42:57+01:00\n",
      "2   2017-10-02 06:37:10+01:00\n",
      "Name: Start date, dtype: datetime64[ns, Europe/London] \n",
      "\n",
      "0   2017-10-01 10:23:25-04:00\n",
      "1   2017-10-01 10:42:57-04:00\n",
      "2   2017-10-02 01:37:10-04:00\n",
      "Name: Start date, dtype: datetime64[ns, America/New_York] \n",
      "\n"
     ]
    }
   ],
   "source": [
    "print(rides['Start date'].head(3), '\\n') # timezone-naive dates\n",
    "\n",
    "# To put them into a timezone, we can use `.dt.tz_localize()`. \n",
    "print(rides['Start date'].head(3).dt.tz_localize('Europe/London'), '\\n')\n",
    "\n",
    "# NOTE: `tz_localize` is used to set a timezone, in the first place, to non-tz-aware datetimes (similar to `datetime.replace(tzinfo=)`), \n",
    "# but `tz_convert` is used with tz-aware datetimes to convert them to another timezone, (similar to `datetime.astimezone(timezone | tzfile)`)\n",
    "print(rides['Start date'].head(3).dt.tz_localize('Europe/London').dt.tz_convert('America/New_York'), '\\n')"
   ]
  },
  {
   "cell_type": "code",
   "execution_count": 71,
   "metadata": {},
   "outputs": [
    {
     "ename": "AmbiguousTimeError",
     "evalue": "Cannot infer dst time from 2017-11-05 01:56:50, try using the 'ambiguous' argument",
     "output_type": "error",
     "traceback": [
      "\u001b[1;31m---------------------------------------------------------------------------\u001b[0m",
      "\u001b[1;31mAmbiguousTimeError\u001b[0m                        Traceback (most recent call last)",
      "Cell \u001b[1;32mIn[71], line 3\u001b[0m\n\u001b[0;32m      1\u001b[0m \u001b[38;5;66;03m# However, if we try to convert our entire Start date column to the America/New_York timezone, Pandas will throw an AmbiguousTimeError. \u001b[39;00m\n\u001b[0;32m      2\u001b[0m \u001b[38;5;66;03m# As expected, we have one datetime (ambiguous time) that occurs during the Daylight Saving shift.\u001b[39;00m\n\u001b[1;32m----> 3\u001b[0m rides[\u001b[38;5;124m'\u001b[39m\u001b[38;5;124mStart date\u001b[39m\u001b[38;5;124m'\u001b[39m] \u001b[38;5;241m=\u001b[39m \u001b[43mrides\u001b[49m\u001b[43m[\u001b[49m\u001b[38;5;124;43m'\u001b[39;49m\u001b[38;5;124;43mStart date\u001b[39;49m\u001b[38;5;124;43m'\u001b[39;49m\u001b[43m]\u001b[49m\u001b[38;5;241;43m.\u001b[39;49m\u001b[43mdt\u001b[49m\u001b[38;5;241;43m.\u001b[39;49m\u001b[43mtz_localize\u001b[49m\u001b[43m(\u001b[49m\u001b[38;5;124;43m'\u001b[39;49m\u001b[38;5;124;43mAmerica/New_York\u001b[39;49m\u001b[38;5;124;43m'\u001b[39;49m\u001b[43m)\u001b[49m\n",
      "File \u001b[1;32mc:\\Users\\moham\\AppData\\Local\\Programs\\Python\\Python312\\Lib\\site-packages\\pandas\\core\\accessor.py:112\u001b[0m, in \u001b[0;36mPandasDelegate._add_delegate_accessors.<locals>._create_delegator_method.<locals>.f\u001b[1;34m(self, *args, **kwargs)\u001b[0m\n\u001b[0;32m    111\u001b[0m \u001b[38;5;28;01mdef\u001b[39;00m \u001b[38;5;21mf\u001b[39m(\u001b[38;5;28mself\u001b[39m, \u001b[38;5;241m*\u001b[39margs, \u001b[38;5;241m*\u001b[39m\u001b[38;5;241m*\u001b[39mkwargs):\n\u001b[1;32m--> 112\u001b[0m     \u001b[38;5;28;01mreturn\u001b[39;00m \u001b[38;5;28;43mself\u001b[39;49m\u001b[38;5;241;43m.\u001b[39;49m\u001b[43m_delegate_method\u001b[49m\u001b[43m(\u001b[49m\u001b[43mname\u001b[49m\u001b[43m,\u001b[49m\u001b[43m \u001b[49m\u001b[38;5;241;43m*\u001b[39;49m\u001b[43margs\u001b[49m\u001b[43m,\u001b[49m\u001b[43m \u001b[49m\u001b[38;5;241;43m*\u001b[39;49m\u001b[38;5;241;43m*\u001b[39;49m\u001b[43mkwargs\u001b[49m\u001b[43m)\u001b[49m\n",
      "File \u001b[1;32mc:\\Users\\moham\\AppData\\Local\\Programs\\Python\\Python312\\Lib\\site-packages\\pandas\\core\\indexes\\accessors.py:132\u001b[0m, in \u001b[0;36mProperties._delegate_method\u001b[1;34m(self, name, *args, **kwargs)\u001b[0m\n\u001b[0;32m    129\u001b[0m values \u001b[38;5;241m=\u001b[39m \u001b[38;5;28mself\u001b[39m\u001b[38;5;241m.\u001b[39m_get_values()\n\u001b[0;32m    131\u001b[0m method \u001b[38;5;241m=\u001b[39m \u001b[38;5;28mgetattr\u001b[39m(values, name)\n\u001b[1;32m--> 132\u001b[0m result \u001b[38;5;241m=\u001b[39m \u001b[43mmethod\u001b[49m\u001b[43m(\u001b[49m\u001b[38;5;241;43m*\u001b[39;49m\u001b[43margs\u001b[49m\u001b[43m,\u001b[49m\u001b[43m \u001b[49m\u001b[38;5;241;43m*\u001b[39;49m\u001b[38;5;241;43m*\u001b[39;49m\u001b[43mkwargs\u001b[49m\u001b[43m)\u001b[49m\n\u001b[0;32m    134\u001b[0m \u001b[38;5;28;01mif\u001b[39;00m \u001b[38;5;129;01mnot\u001b[39;00m is_list_like(result):\n\u001b[0;32m    135\u001b[0m     \u001b[38;5;28;01mreturn\u001b[39;00m result\n",
      "File \u001b[1;32mc:\\Users\\moham\\AppData\\Local\\Programs\\Python\\Python312\\Lib\\site-packages\\pandas\\core\\indexes\\datetimes.py:293\u001b[0m, in \u001b[0;36mDatetimeIndex.tz_localize\u001b[1;34m(self, tz, ambiguous, nonexistent)\u001b[0m\n\u001b[0;32m    286\u001b[0m \u001b[38;5;129m@doc\u001b[39m(DatetimeArray\u001b[38;5;241m.\u001b[39mtz_localize)\n\u001b[0;32m    287\u001b[0m \u001b[38;5;28;01mdef\u001b[39;00m \u001b[38;5;21mtz_localize\u001b[39m(\n\u001b[0;32m    288\u001b[0m     \u001b[38;5;28mself\u001b[39m,\n\u001b[1;32m   (...)\u001b[0m\n\u001b[0;32m    291\u001b[0m     nonexistent: TimeNonexistent \u001b[38;5;241m=\u001b[39m \u001b[38;5;124m\"\u001b[39m\u001b[38;5;124mraise\u001b[39m\u001b[38;5;124m\"\u001b[39m,\n\u001b[0;32m    292\u001b[0m ) \u001b[38;5;241m-\u001b[39m\u001b[38;5;241m>\u001b[39m Self:\n\u001b[1;32m--> 293\u001b[0m     arr \u001b[38;5;241m=\u001b[39m \u001b[38;5;28;43mself\u001b[39;49m\u001b[38;5;241;43m.\u001b[39;49m\u001b[43m_data\u001b[49m\u001b[38;5;241;43m.\u001b[39;49m\u001b[43mtz_localize\u001b[49m\u001b[43m(\u001b[49m\u001b[43mtz\u001b[49m\u001b[43m,\u001b[49m\u001b[43m \u001b[49m\u001b[43mambiguous\u001b[49m\u001b[43m,\u001b[49m\u001b[43m \u001b[49m\u001b[43mnonexistent\u001b[49m\u001b[43m)\u001b[49m\n\u001b[0;32m    294\u001b[0m     \u001b[38;5;28;01mreturn\u001b[39;00m \u001b[38;5;28mtype\u001b[39m(\u001b[38;5;28mself\u001b[39m)\u001b[38;5;241m.\u001b[39m_simple_new(arr, name\u001b[38;5;241m=\u001b[39m\u001b[38;5;28mself\u001b[39m\u001b[38;5;241m.\u001b[39mname)\n",
      "File \u001b[1;32mc:\\Users\\moham\\AppData\\Local\\Programs\\Python\\Python312\\Lib\\site-packages\\pandas\\core\\arrays\\_mixins.py:81\u001b[0m, in \u001b[0;36mravel_compat.<locals>.method\u001b[1;34m(self, *args, **kwargs)\u001b[0m\n\u001b[0;32m     78\u001b[0m \u001b[38;5;129m@wraps\u001b[39m(meth)\n\u001b[0;32m     79\u001b[0m \u001b[38;5;28;01mdef\u001b[39;00m \u001b[38;5;21mmethod\u001b[39m(\u001b[38;5;28mself\u001b[39m, \u001b[38;5;241m*\u001b[39margs, \u001b[38;5;241m*\u001b[39m\u001b[38;5;241m*\u001b[39mkwargs):\n\u001b[0;32m     80\u001b[0m     \u001b[38;5;28;01mif\u001b[39;00m \u001b[38;5;28mself\u001b[39m\u001b[38;5;241m.\u001b[39mndim \u001b[38;5;241m==\u001b[39m \u001b[38;5;241m1\u001b[39m:\n\u001b[1;32m---> 81\u001b[0m         \u001b[38;5;28;01mreturn\u001b[39;00m \u001b[43mmeth\u001b[49m\u001b[43m(\u001b[49m\u001b[38;5;28;43mself\u001b[39;49m\u001b[43m,\u001b[49m\u001b[43m \u001b[49m\u001b[38;5;241;43m*\u001b[39;49m\u001b[43margs\u001b[49m\u001b[43m,\u001b[49m\u001b[43m \u001b[49m\u001b[38;5;241;43m*\u001b[39;49m\u001b[38;5;241;43m*\u001b[39;49m\u001b[43mkwargs\u001b[49m\u001b[43m)\u001b[49m\n\u001b[0;32m     83\u001b[0m     flags \u001b[38;5;241m=\u001b[39m \u001b[38;5;28mself\u001b[39m\u001b[38;5;241m.\u001b[39m_ndarray\u001b[38;5;241m.\u001b[39mflags\n\u001b[0;32m     84\u001b[0m     flat \u001b[38;5;241m=\u001b[39m \u001b[38;5;28mself\u001b[39m\u001b[38;5;241m.\u001b[39mravel(\u001b[38;5;124m\"\u001b[39m\u001b[38;5;124mK\u001b[39m\u001b[38;5;124m\"\u001b[39m)\n",
      "File \u001b[1;32mc:\\Users\\moham\\AppData\\Local\\Programs\\Python\\Python312\\Lib\\site-packages\\pandas\\core\\arrays\\datetimes.py:1088\u001b[0m, in \u001b[0;36mDatetimeArray.tz_localize\u001b[1;34m(self, tz, ambiguous, nonexistent)\u001b[0m\n\u001b[0;32m   1085\u001b[0m     tz \u001b[38;5;241m=\u001b[39m timezones\u001b[38;5;241m.\u001b[39mmaybe_get_tz(tz)\n\u001b[0;32m   1086\u001b[0m     \u001b[38;5;66;03m# Convert to UTC\u001b[39;00m\n\u001b[1;32m-> 1088\u001b[0m     new_dates \u001b[38;5;241m=\u001b[39m \u001b[43mtzconversion\u001b[49m\u001b[38;5;241;43m.\u001b[39;49m\u001b[43mtz_localize_to_utc\u001b[49m\u001b[43m(\u001b[49m\n\u001b[0;32m   1089\u001b[0m \u001b[43m        \u001b[49m\u001b[38;5;28;43mself\u001b[39;49m\u001b[38;5;241;43m.\u001b[39;49m\u001b[43masi8\u001b[49m\u001b[43m,\u001b[49m\n\u001b[0;32m   1090\u001b[0m \u001b[43m        \u001b[49m\u001b[43mtz\u001b[49m\u001b[43m,\u001b[49m\n\u001b[0;32m   1091\u001b[0m \u001b[43m        \u001b[49m\u001b[43mambiguous\u001b[49m\u001b[38;5;241;43m=\u001b[39;49m\u001b[43mambiguous\u001b[49m\u001b[43m,\u001b[49m\n\u001b[0;32m   1092\u001b[0m \u001b[43m        \u001b[49m\u001b[43mnonexistent\u001b[49m\u001b[38;5;241;43m=\u001b[39;49m\u001b[43mnonexistent\u001b[49m\u001b[43m,\u001b[49m\n\u001b[0;32m   1093\u001b[0m \u001b[43m        \u001b[49m\u001b[43mcreso\u001b[49m\u001b[38;5;241;43m=\u001b[39;49m\u001b[38;5;28;43mself\u001b[39;49m\u001b[38;5;241;43m.\u001b[39;49m\u001b[43m_creso\u001b[49m\u001b[43m,\u001b[49m\n\u001b[0;32m   1094\u001b[0m \u001b[43m    \u001b[49m\u001b[43m)\u001b[49m\n\u001b[0;32m   1095\u001b[0m new_dates_dt64 \u001b[38;5;241m=\u001b[39m new_dates\u001b[38;5;241m.\u001b[39mview(\u001b[38;5;124mf\u001b[39m\u001b[38;5;124m\"\u001b[39m\u001b[38;5;124mM8[\u001b[39m\u001b[38;5;132;01m{\u001b[39;00m\u001b[38;5;28mself\u001b[39m\u001b[38;5;241m.\u001b[39munit\u001b[38;5;132;01m}\u001b[39;00m\u001b[38;5;124m]\u001b[39m\u001b[38;5;124m\"\u001b[39m)\n\u001b[0;32m   1096\u001b[0m dtype \u001b[38;5;241m=\u001b[39m tz_to_dtype(tz, unit\u001b[38;5;241m=\u001b[39m\u001b[38;5;28mself\u001b[39m\u001b[38;5;241m.\u001b[39munit)\n",
      "File \u001b[1;32mtzconversion.pyx:371\u001b[0m, in \u001b[0;36mpandas._libs.tslibs.tzconversion.tz_localize_to_utc\u001b[1;34m()\u001b[0m\n",
      "\u001b[1;31mAmbiguousTimeError\u001b[0m: Cannot infer dst time from 2017-11-05 01:56:50, try using the 'ambiguous' argument"
     ]
    }
   ],
   "source": [
    "# However, if we try to convert our entire Start date column to the America/New_York timezone, Pandas will throw an AmbiguousTimeError. \n",
    "# As expected, we have one datetime (ambiguous time) that occurs during the Daylight Saving shift.\n",
    "rides['Start date'] = rides['Start date'].dt.tz_localize('America/New_York')"
   ]
  },
  {
   "cell_type": "code",
   "execution_count": 40,
   "metadata": {},
   "outputs": [
    {
     "data": {
      "text/plain": [
       "116.0"
      ]
     },
     "execution_count": 40,
     "metadata": {},
     "output_type": "execute_result"
    }
   ],
   "source": [
    "# Following the advice of the error message in the previous cell, we can set the `ambiguous` argument in `dt.tz_localize()` to 'NaT'\n",
    "rides['Start date'] = rides['Start date'].dt.tz_localize('America/New_York', ambiguous='NaT')\n",
    "rides['End date'] = rides['End date'].dt.tz_localize('America/New_York', ambiguous='NaT')\n",
    "\n",
    "# recalculate `Duration`, ignoring bad rows\n",
    "rides['Duration'] = rides['End date'] - rides['Start date']\n",
    "rides['Duration seconds'] = rides['Duration'].dt.total_seconds()\n",
    "rides['Duration seconds'].min() # much more sensible output!"
   ]
  },
  {
   "cell_type": "markdown",
   "metadata": {},
   "source": [
    "### Other datetime operations in Pandas"
   ]
  },
  {
   "cell_type": "code",
   "execution_count": 44,
   "metadata": {},
   "outputs": [
    {
     "name": "stdout",
     "output_type": "stream",
     "text": [
      "0    Sunday\n",
      "1    Sunday\n",
      "2    Monday\n",
      "Name: Start date, dtype: object\n"
     ]
    },
    {
     "data": {
      "text/plain": [
       "0    Domenica\n",
       "1    Domenica\n",
       "2      Lunedì\n",
       "Name: Start date, dtype: object"
      ]
     },
     "execution_count": 44,
     "metadata": {},
     "output_type": "execute_result"
    }
   ],
   "source": [
    "print(rides['Start date'].head(3).dt.day_name())\n",
    "# You can also set other languages rather than English\n",
    "rides['Start date'].head(3).dt.day_name('Italian')"
   ]
  },
  {
   "cell_type": "code",
   "execution_count": 42,
   "metadata": {},
   "outputs": [
    {
     "name": "stdout",
     "output_type": "stream",
     "text": [
      "0                         NaT\n",
      "1   2017-10-01 15:26:26-04:00\n",
      "2   2017-10-01 17:49:59-04:00\n",
      "Name: End date, dtype: datetime64[ns, America/New_York] \n",
      "\n",
      "Median time passes between rides: 67.1 min\n"
     ]
    }
   ],
   "source": [
    "# Shifting the indexes forward one\n",
    "\n",
    "# We can also shift rows up or down with `.shift()`. \n",
    "# Here we've shifted the rides one row forward so that our zeroth row is now 'NaT', \n",
    "# and our first row has the same value that our zeroth row had before. \n",
    "print(rides['End date'].head(3).shift(1), '\\n') # +1 for shifting forward; -1 for shifting backward\n",
    "\n",
    "# This shifting is useful if you want to, for example, compare the end time of one ride with the start time of the next ride.\n",
    "# We can calculate the time difference between the end of one ride and the start of the next. \n",
    "# This helps in answering questions like: How much time usually passes between rides?\n",
    "rides['Gap'] = rides['Start date'] - rides['End date'].shift(1)\n",
    "print(\"Median time passes between rides:\", rides['Gap'].median().total_seconds()/60, 'min')"
   ]
  }
 ],
 "metadata": {
  "kernelspec": {
   "display_name": "Python 3",
   "language": "python",
   "name": "python3"
  },
  "language_info": {
   "codemirror_mode": {
    "name": "ipython",
    "version": 3
   },
   "file_extension": ".py",
   "mimetype": "text/x-python",
   "name": "python",
   "nbconvert_exporter": "python",
   "pygments_lexer": "ipython3",
   "version": "3.12.1"
  }
 },
 "nbformat": 4,
 "nbformat_minor": 2
}
