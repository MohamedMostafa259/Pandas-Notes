{
 "cells": [
  {
   "cell_type": "markdown",
   "metadata": {},
   "source": [
    "# Counting"
   ]
  },
  {
   "cell_type": "code",
   "execution_count": 1,
   "metadata": {},
   "outputs": [],
   "source": [
    "import pandas as pd"
   ]
  },
  {
   "cell_type": "code",
   "execution_count": 2,
   "metadata": {},
   "outputs": [
    {
     "data": {
      "text/html": [
       "<div>\n",
       "<style scoped>\n",
       "    .dataframe tbody tr th:only-of-type {\n",
       "        vertical-align: middle;\n",
       "    }\n",
       "\n",
       "    .dataframe tbody tr th {\n",
       "        vertical-align: top;\n",
       "    }\n",
       "\n",
       "    .dataframe thead th {\n",
       "        text-align: right;\n",
       "    }\n",
       "</style>\n",
       "<table border=\"1\" class=\"dataframe\">\n",
       "  <thead>\n",
       "    <tr style=\"text-align: right;\">\n",
       "      <th></th>\n",
       "      <th>store</th>\n",
       "      <th>type</th>\n",
       "      <th>department</th>\n",
       "      <th>date</th>\n",
       "      <th>weekly_sales</th>\n",
       "      <th>is_holiday</th>\n",
       "      <th>temperature_c</th>\n",
       "      <th>fuel_price_usd_per_l</th>\n",
       "      <th>unemployment</th>\n",
       "    </tr>\n",
       "  </thead>\n",
       "  <tbody>\n",
       "    <tr>\n",
       "      <th>0</th>\n",
       "      <td>1</td>\n",
       "      <td>A</td>\n",
       "      <td>1</td>\n",
       "      <td>2010-02-05</td>\n",
       "      <td>24924.50</td>\n",
       "      <td>False</td>\n",
       "      <td>5.728</td>\n",
       "      <td>0.679</td>\n",
       "      <td>8.106</td>\n",
       "    </tr>\n",
       "    <tr>\n",
       "      <th>1</th>\n",
       "      <td>2</td>\n",
       "      <td>A</td>\n",
       "      <td>1</td>\n",
       "      <td>2010-03-05</td>\n",
       "      <td>21827.90</td>\n",
       "      <td>False</td>\n",
       "      <td>8.056</td>\n",
       "      <td>0.693</td>\n",
       "      <td>8.106</td>\n",
       "    </tr>\n",
       "    <tr>\n",
       "      <th>2</th>\n",
       "      <td>3</td>\n",
       "      <td>B</td>\n",
       "      <td>1</td>\n",
       "      <td>2010-04-02</td>\n",
       "      <td>57258.43</td>\n",
       "      <td>True</td>\n",
       "      <td>16.817</td>\n",
       "      <td>0.718</td>\n",
       "      <td>7.808</td>\n",
       "    </tr>\n",
       "    <tr>\n",
       "      <th>3</th>\n",
       "      <td>4</td>\n",
       "      <td>B</td>\n",
       "      <td>2</td>\n",
       "      <td>2010-05-07</td>\n",
       "      <td>17413.94</td>\n",
       "      <td>False</td>\n",
       "      <td>22.528</td>\n",
       "      <td>0.749</td>\n",
       "      <td>7.808</td>\n",
       "    </tr>\n",
       "    <tr>\n",
       "      <th>4</th>\n",
       "      <td>3</td>\n",
       "      <td>B</td>\n",
       "      <td>2</td>\n",
       "      <td>2010-06-04</td>\n",
       "      <td>17558.09</td>\n",
       "      <td>False</td>\n",
       "      <td>27.050</td>\n",
       "      <td>0.715</td>\n",
       "      <td>7.808</td>\n",
       "    </tr>\n",
       "    <tr>\n",
       "      <th>5</th>\n",
       "      <td>6</td>\n",
       "      <td>C</td>\n",
       "      <td>2</td>\n",
       "      <td>2010-06-04</td>\n",
       "      <td>17558.09</td>\n",
       "      <td>True</td>\n",
       "      <td>27.050</td>\n",
       "      <td>0.715</td>\n",
       "      <td>7.808</td>\n",
       "    </tr>\n",
       "    <tr>\n",
       "      <th>6</th>\n",
       "      <td>7</td>\n",
       "      <td>C</td>\n",
       "      <td>3</td>\n",
       "      <td>2010-06-04</td>\n",
       "      <td>17558.09</td>\n",
       "      <td>False</td>\n",
       "      <td>27.050</td>\n",
       "      <td>0.715</td>\n",
       "      <td>7.808</td>\n",
       "    </tr>\n",
       "    <tr>\n",
       "      <th>7</th>\n",
       "      <td>7</td>\n",
       "      <td>C</td>\n",
       "      <td>3</td>\n",
       "      <td>2010-06-04</td>\n",
       "      <td>17558.09</td>\n",
       "      <td>False</td>\n",
       "      <td>27.050</td>\n",
       "      <td>0.715</td>\n",
       "      <td>7.808</td>\n",
       "    </tr>\n",
       "    <tr>\n",
       "      <th>8</th>\n",
       "      <td>7</td>\n",
       "      <td>C</td>\n",
       "      <td>3</td>\n",
       "      <td>2010-06-04</td>\n",
       "      <td>17558.09</td>\n",
       "      <td>False</td>\n",
       "      <td>27.050</td>\n",
       "      <td>0.715</td>\n",
       "      <td>7.808</td>\n",
       "    </tr>\n",
       "  </tbody>\n",
       "</table>\n",
       "</div>"
      ],
      "text/plain": [
       "   store type  department        date  weekly_sales  is_holiday  \\\n",
       "0      1    A           1  2010-02-05      24924.50       False   \n",
       "1      2    A           1  2010-03-05      21827.90       False   \n",
       "2      3    B           1  2010-04-02      57258.43        True   \n",
       "3      4    B           2  2010-05-07      17413.94       False   \n",
       "4      3    B           2  2010-06-04      17558.09       False   \n",
       "5      6    C           2  2010-06-04      17558.09        True   \n",
       "6      7    C           3  2010-06-04      17558.09       False   \n",
       "7      7    C           3  2010-06-04      17558.09       False   \n",
       "8      7    C           3  2010-06-04      17558.09       False   \n",
       "\n",
       "   temperature_c  fuel_price_usd_per_l  unemployment  \n",
       "0          5.728                 0.679         8.106  \n",
       "1          8.056                 0.693         8.106  \n",
       "2         16.817                 0.718         7.808  \n",
       "3         22.528                 0.749         7.808  \n",
       "4         27.050                 0.715         7.808  \n",
       "5         27.050                 0.715         7.808  \n",
       "6         27.050                 0.715         7.808  \n",
       "7         27.050                 0.715         7.808  \n",
       "8         27.050                 0.715         7.808  "
      ]
     },
     "execution_count": 2,
     "metadata": {},
     "output_type": "execute_result"
    }
   ],
   "source": [
    "sales = pd.read_csv(\"https://raw.githubusercontent.com/MohamedMostafa259/Pandas-Notes/refs/heads/main/Data/sales_sample.csv\")\n",
    "sales # last 3 rows are the same"
   ]
  },
  {
   "cell_type": "code",
   "execution_count": 3,
   "metadata": {},
   "outputs": [
    {
     "name": "stdout",
     "output_type": "stream",
     "text": [
      "type\n",
      "A    2\n",
      "B    3\n",
      "C    4\n",
      "Name: count, dtype: int64 \n",
      "\n",
      "type\n",
      "C    0.444444\n",
      "B    0.333333\n",
      "A    0.222222\n",
      "Name: proportion, dtype: float64 \n",
      "\n",
      "type  store\n",
      "C     7        3\n",
      "B     3        2\n",
      "A     1        1\n",
      "      2        1\n",
      "B     4        1\n",
      "C     6        1\n",
      "Name: count, dtype: int64\n"
     ]
    }
   ],
   "source": [
    "# sort=True : sorting in descending order\n",
    "print(sales[\"type\"].value_counts(ascending=True), '\\n') # better than => sales.value_counts(subset=[\"type\"], ascending=True)\n",
    "print(sales[\"type\"].value_counts(normalize=True), '\\n') # better than => sales.value_counts(subset=[\"type\"], normalize=True) # normalize => proportions\n",
    "print(sales[[\"type\", \"store\"]].value_counts()) # better than => sales.value_counts(subset=[\"type\", \"store\"])"
   ]
  },
  {
   "cell_type": "markdown",
   "metadata": {},
   "source": [
    "# Efficiency Comparison ↓↓\n",
    "To measure the performance difference between the two methods, you can use the `%timeit` magic command in a Jupyter notebook. This command runs a piece of code multiple times and provides the average execution time, allowing you to compare the efficiency of different approaches."
   ]
  },
  {
   "cell_type": "code",
   "execution_count": 4,
   "metadata": {},
   "outputs": [
    {
     "name": "stdout",
     "output_type": "stream",
     "text": [
      "859 µs ± 225 µs per loop (mean ± std. dev. of 7 runs, 1,000 loops each)\n",
      "201 µs ± 24 µs per loop (mean ± std. dev. of 7 runs, 1,000 loops each)\n"
     ]
    }
   ],
   "source": [
    "%timeit sales.value_counts(subset=[\"type\"])\n",
    "\n",
    "%timeit sales[\"type\"].value_counts()"
   ]
  },
  {
   "cell_type": "markdown",
   "metadata": {},
   "source": [
    "# Conclusion ↑↑\n",
    "Using the `%timeit` command, you can observe that `sales[\"type\"].value_counts()` typically executes faster than `sales.value_counts(subset=[\"type\"])`. The latter involves more complex DataFrame operations, whereas the former directly operates on a Series, leading to better performance."
   ]
  }
 ],
 "metadata": {
  "kernelspec": {
   "display_name": "Python 3",
   "language": "python",
   "name": "python3"
  },
  "language_info": {
   "codemirror_mode": {
    "name": "ipython",
    "version": 3
   },
   "file_extension": ".py",
   "mimetype": "text/x-python",
   "name": "python",
   "nbconvert_exporter": "python",
   "pygments_lexer": "ipython3",
   "version": "3.12.1"
  }
 },
 "nbformat": 4,
 "nbformat_minor": 2
}
